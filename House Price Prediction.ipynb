{
  "nbformat": 4,
  "nbformat_minor": 0,
  "metadata": {
    "colab": {
      "name": "CAP4611 Assignment 4 : James Hall.ipynb",
      "provenance": [],
      "collapsed_sections": [],
      "toc_visible": true,
      "authorship_tag": "ABX9TyMUWR7SKHsMvom3fpmMTGzm",
      "include_colab_link": true
    },
    "kernelspec": {
      "display_name": "Python 3",
      "name": "python3"
    }
  },
  "cells": [
    {
      "cell_type": "markdown",
      "metadata": {
        "id": "view-in-github",
        "colab_type": "text"
      },
      "source": [
        "<a href=\"https://colab.research.google.com/github/Halskii/Machine-Learning/blob/main/CAP4611_Assignment_4_James_Hall.ipynb\" target=\"_parent\"><img src=\"https://colab.research.google.com/assets/colab-badge.svg\" alt=\"Open In Colab\"/></a>"
      ]
    },
    {
      "cell_type": "markdown",
      "metadata": {
        "id": "oe9ionfd3SYg"
      },
      "source": [
        "# **Uploading the datasets**\n",
        "\n",
        "For this notebook to run you must first upload the training and testing CSV files into the google collab session."
      ]
    },
    {
      "cell_type": "code",
      "metadata": {
        "colab": {
          "resources": {
            "http://localhost:8080/nbextensions/google.colab/files.js": {
              "data": "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",
              "ok": true,
              "headers": [
                [
                  "content-type",
                  "application/javascript"
                ]
              ],
              "status": 200,
              "status_text": ""
            }
          },
          "base_uri": "https://localhost:8080/",
          "height": 140
        },
        "id": "mu9WK_3B68YN",
        "outputId": "e6cbf4ee-1865-4a90-830d-9f5c9dba262e"
      },
      "source": [
        "from google.colab import files\n",
        "\n",
        "uploaded = files.upload()\n",
        "\n",
        "for fn in uploaded.keys():\n",
        "  print('User uploaded file \"{name}\" with length {length} bytes'.format(name=fn, length=len(uploaded[fn])))\n"
      ],
      "execution_count": null,
      "outputs": [
        {
          "output_type": "display_data",
          "data": {
            "text/html": [
              "\n",
              "     <input type=\"file\" id=\"files-e9cce9a9-3ed4-4505-8122-1f835bc90190\" name=\"files[]\" multiple disabled\n",
              "        style=\"border:none\" />\n",
              "     <output id=\"result-e9cce9a9-3ed4-4505-8122-1f835bc90190\">\n",
              "      Upload widget is only available when the cell has been executed in the\n",
              "      current browser session. Please rerun this cell to enable.\n",
              "      </output>\n",
              "      <script src=\"/nbextensions/google.colab/files.js\"></script> "
            ],
            "text/plain": [
              "<IPython.core.display.HTML object>"
            ]
          },
          "metadata": {
            "tags": []
          }
        },
        {
          "output_type": "stream",
          "text": [
            "Saving test.csv to test.csv\n",
            "Saving train.csv to train.csv\n",
            "User uploaded file \"test.csv\" with length 681759 bytes\n",
            "User uploaded file \"train.csv\" with length 773104 bytes\n"
          ],
          "name": "stdout"
        }
      ]
    },
    {
      "cell_type": "markdown",
      "metadata": {
        "id": "O9ORidBE-nh5"
      },
      "source": [
        "# **Importing the training and test datasets**\n",
        "\n",
        "This section converts the uploaded CSV files into pandas dataframes via the read_csv function."
      ]
    },
    {
      "cell_type": "code",
      "metadata": {
        "colab": {
          "base_uri": "https://localhost:8080/"
        },
        "id": "y3zPuwdC7gWC",
        "outputId": "0e66f018-fcc0-471c-9362-9037e84bc2fe"
      },
      "source": [
        "import pandas as pd\n",
        "import numpy as np\n",
        "import io\n",
        "\n",
        "raw_train_data = pd.read_csv(io.BytesIO(uploaded['train.csv']))\n",
        "train_data = raw_train_data.sample(frac=1).reset_index(drop=True)\n",
        "train_data.head()\n",
        "train_data.info()"
      ],
      "execution_count": null,
      "outputs": [
        {
          "output_type": "stream",
          "text": [
            "<class 'pandas.core.frame.DataFrame'>\n",
            "RangeIndex: 10320 entries, 0 to 10319\n",
            "Data columns (total 11 columns):\n",
            " #   Column              Non-Null Count  Dtype  \n",
            "---  ------              --------------  -----  \n",
            " 0   id                  10320 non-null  int64  \n",
            " 1   longitude           10320 non-null  float64\n",
            " 2   latitude            10320 non-null  float64\n",
            " 3   housing_median_age  10320 non-null  float64\n",
            " 4   total_rooms         10320 non-null  float64\n",
            " 5   total_bedrooms      10210 non-null  float64\n",
            " 6   population          10320 non-null  float64\n",
            " 7   households          10320 non-null  float64\n",
            " 8   median_income       10320 non-null  float64\n",
            " 9   ocean_proximity     10320 non-null  object \n",
            " 10  median_house_value  10320 non-null  float64\n",
            "dtypes: float64(9), int64(1), object(1)\n",
            "memory usage: 887.0+ KB\n"
          ],
          "name": "stdout"
        }
      ]
    },
    {
      "cell_type": "code",
      "metadata": {
        "colab": {
          "base_uri": "https://localhost:8080/"
        },
        "id": "5fTBqlKR-KZO",
        "outputId": "5093e475-b2a3-4e7f-8b82-7b3368384072"
      },
      "source": [
        "raw_test_data = pd.read_csv(io.BytesIO(uploaded['test.csv']))\n",
        "test_data = raw_test_data.sample(frac=1).reset_index(drop=True)\n",
        "test_data.head()\n",
        "test_data.info()"
      ],
      "execution_count": null,
      "outputs": [
        {
          "output_type": "stream",
          "text": [
            "<class 'pandas.core.frame.DataFrame'>\n",
            "RangeIndex: 10320 entries, 0 to 10319\n",
            "Data columns (total 10 columns):\n",
            " #   Column              Non-Null Count  Dtype  \n",
            "---  ------              --------------  -----  \n",
            " 0   id                  10320 non-null  int64  \n",
            " 1   longitude           10320 non-null  float64\n",
            " 2   latitude            10320 non-null  float64\n",
            " 3   housing_median_age  10320 non-null  float64\n",
            " 4   total_rooms         10320 non-null  float64\n",
            " 5   total_bedrooms      10223 non-null  float64\n",
            " 6   population          10320 non-null  float64\n",
            " 7   households          10320 non-null  float64\n",
            " 8   median_income       10320 non-null  float64\n",
            " 9   ocean_proximity     10320 non-null  object \n",
            "dtypes: float64(8), int64(1), object(1)\n",
            "memory usage: 806.4+ KB\n"
          ],
          "name": "stdout"
        }
      ]
    },
    {
      "cell_type": "markdown",
      "metadata": {
        "id": "9AA-5plXlD5b"
      },
      "source": [
        "# **Replacing our categorical values with numeric ones.**\n",
        "\n",
        "Since we have a combination of continuous and categorical features, let's convert our categorical feature, 'ocean_proximity', into integer represenations.\n",
        "\n",
        "We convert ocean proximity to categorys, and convert those to integer representations.\n"
      ]
    },
    {
      "cell_type": "code",
      "metadata": {
        "colab": {
          "base_uri": "https://localhost:8080/"
        },
        "id": "MRhgxRUblDuD",
        "outputId": "e21a4221-fb05-4cac-f5cd-2c99681d34bd"
      },
      "source": [
        "train_data['ocean_proximity'] = train_data['ocean_proximity'].astype('category')\n",
        "train_data['ocean_proximity'] = train_data['ocean_proximity'].cat.codes + 1\n",
        "\n",
        "train_data['ocean_proximity']"
      ],
      "execution_count": null,
      "outputs": [
        {
          "output_type": "execute_result",
          "data": {
            "text/plain": [
              "0        4\n",
              "1        2\n",
              "2        1\n",
              "3        2\n",
              "4        1\n",
              "        ..\n",
              "10315    4\n",
              "10316    2\n",
              "10317    2\n",
              "10318    4\n",
              "10319    2\n",
              "Name: ocean_proximity, Length: 10320, dtype: int8"
            ]
          },
          "metadata": {
            "tags": []
          },
          "execution_count": 5
        }
      ]
    },
    {
      "cell_type": "code",
      "metadata": {
        "colab": {
          "base_uri": "https://localhost:8080/"
        },
        "id": "JiF3Rb48tSlD",
        "outputId": "2a57e6ff-0c54-45e7-ae0d-045e40d60105"
      },
      "source": [
        "test_data['ocean_proximity'] = test_data['ocean_proximity'].astype('category')\n",
        "test_data['ocean_proximity'] = test_data['ocean_proximity'].cat.codes + 1\n",
        "\n",
        "test_data['ocean_proximity']"
      ],
      "execution_count": null,
      "outputs": [
        {
          "output_type": "execute_result",
          "data": {
            "text/plain": [
              "0        2\n",
              "1        2\n",
              "2        1\n",
              "3        2\n",
              "4        1\n",
              "        ..\n",
              "10315    1\n",
              "10316    1\n",
              "10317    2\n",
              "10318    4\n",
              "10319    2\n",
              "Name: ocean_proximity, Length: 10320, dtype: int8"
            ]
          },
          "metadata": {
            "tags": []
          },
          "execution_count": 6
        }
      ]
    },
    {
      "cell_type": "markdown",
      "metadata": {
        "id": "mkuNh29SLorS"
      },
      "source": [
        "# **Analysis of our data**\n",
        "\n",
        "Contained in this section are a series of visual tools for getting a feel for our data. Through our heatmap we can see the correlation of our datasets different features. Heatmaps are good as a visual, but for this dataset it's a bit hard to determine which features are the most applicable from a visual perspective. There are some features that should have the most impact on the median home value in a given area, and there are others that may not have as big a impact.\n"
      ]
    },
    {
      "cell_type": "code",
      "metadata": {
        "colab": {
          "base_uri": "https://localhost:8080/",
          "height": 373
        },
        "id": "CICD6Aymym8t",
        "outputId": "4f163cb1-dc92-4c5d-82d6-05a2ef2048f0"
      },
      "source": [
        "train_data.describe().T"
      ],
      "execution_count": null,
      "outputs": [
        {
          "output_type": "execute_result",
          "data": {
            "text/html": [
              "<div>\n",
              "<style scoped>\n",
              "    .dataframe tbody tr th:only-of-type {\n",
              "        vertical-align: middle;\n",
              "    }\n",
              "\n",
              "    .dataframe tbody tr th {\n",
              "        vertical-align: top;\n",
              "    }\n",
              "\n",
              "    .dataframe thead th {\n",
              "        text-align: right;\n",
              "    }\n",
              "</style>\n",
              "<table border=\"1\" class=\"dataframe\">\n",
              "  <thead>\n",
              "    <tr style=\"text-align: right;\">\n",
              "      <th></th>\n",
              "      <th>count</th>\n",
              "      <th>mean</th>\n",
              "      <th>std</th>\n",
              "      <th>min</th>\n",
              "      <th>25%</th>\n",
              "      <th>50%</th>\n",
              "      <th>75%</th>\n",
              "      <th>max</th>\n",
              "    </tr>\n",
              "  </thead>\n",
              "  <tbody>\n",
              "    <tr>\n",
              "      <th>id</th>\n",
              "      <td>10320.0</td>\n",
              "      <td>5159.500000</td>\n",
              "      <td>2979.271723</td>\n",
              "      <td>0.0000</td>\n",
              "      <td>2579.7500</td>\n",
              "      <td>5159.500</td>\n",
              "      <td>7739.250000</td>\n",
              "      <td>10319.0000</td>\n",
              "    </tr>\n",
              "    <tr>\n",
              "      <th>longitude</th>\n",
              "      <td>10320.0</td>\n",
              "      <td>-119.593791</td>\n",
              "      <td>2.005209</td>\n",
              "      <td>-124.3500</td>\n",
              "      <td>-121.8100</td>\n",
              "      <td>-118.535</td>\n",
              "      <td>-118.010000</td>\n",
              "      <td>-114.5500</td>\n",
              "    </tr>\n",
              "    <tr>\n",
              "      <th>latitude</th>\n",
              "      <td>10320.0</td>\n",
              "      <td>35.647997</td>\n",
              "      <td>2.132319</td>\n",
              "      <td>32.5400</td>\n",
              "      <td>33.9400</td>\n",
              "      <td>34.270</td>\n",
              "      <td>37.720000</td>\n",
              "      <td>41.9200</td>\n",
              "    </tr>\n",
              "    <tr>\n",
              "      <th>housing_median_age</th>\n",
              "      <td>10320.0</td>\n",
              "      <td>28.544477</td>\n",
              "      <td>12.605356</td>\n",
              "      <td>1.0000</td>\n",
              "      <td>18.0000</td>\n",
              "      <td>29.000</td>\n",
              "      <td>37.000000</td>\n",
              "      <td>52.0000</td>\n",
              "    </tr>\n",
              "    <tr>\n",
              "      <th>total_rooms</th>\n",
              "      <td>10320.0</td>\n",
              "      <td>2652.874031</td>\n",
              "      <td>2215.969393</td>\n",
              "      <td>6.0000</td>\n",
              "      <td>1461.0000</td>\n",
              "      <td>2138.000</td>\n",
              "      <td>3144.250000</td>\n",
              "      <td>39320.0000</td>\n",
              "    </tr>\n",
              "    <tr>\n",
              "      <th>total_bedrooms</th>\n",
              "      <td>10210.0</td>\n",
              "      <td>541.297845</td>\n",
              "      <td>427.866565</td>\n",
              "      <td>2.0000</td>\n",
              "      <td>294.2500</td>\n",
              "      <td>438.000</td>\n",
              "      <td>648.750000</td>\n",
              "      <td>6445.0000</td>\n",
              "    </tr>\n",
              "    <tr>\n",
              "      <th>population</th>\n",
              "      <td>10320.0</td>\n",
              "      <td>1431.618120</td>\n",
              "      <td>1144.035957</td>\n",
              "      <td>8.0000</td>\n",
              "      <td>786.0000</td>\n",
              "      <td>1165.000</td>\n",
              "      <td>1724.000000</td>\n",
              "      <td>28566.0000</td>\n",
              "    </tr>\n",
              "    <tr>\n",
              "      <th>households</th>\n",
              "      <td>10320.0</td>\n",
              "      <td>502.993605</td>\n",
              "      <td>388.016806</td>\n",
              "      <td>2.0000</td>\n",
              "      <td>278.0000</td>\n",
              "      <td>413.000</td>\n",
              "      <td>607.000000</td>\n",
              "      <td>6082.0000</td>\n",
              "    </tr>\n",
              "    <tr>\n",
              "      <th>median_income</th>\n",
              "      <td>10320.0</td>\n",
              "      <td>3.882051</td>\n",
              "      <td>1.902330</td>\n",
              "      <td>0.4999</td>\n",
              "      <td>2.5833</td>\n",
              "      <td>3.550</td>\n",
              "      <td>4.733575</td>\n",
              "      <td>15.0001</td>\n",
              "    </tr>\n",
              "    <tr>\n",
              "      <th>ocean_proximity</th>\n",
              "      <td>10320.0</td>\n",
              "      <td>2.171802</td>\n",
              "      <td>1.423992</td>\n",
              "      <td>1.0000</td>\n",
              "      <td>1.0000</td>\n",
              "      <td>2.000</td>\n",
              "      <td>2.000000</td>\n",
              "      <td>5.0000</td>\n",
              "    </tr>\n",
              "    <tr>\n",
              "      <th>median_house_value</th>\n",
              "      <td>10320.0</td>\n",
              "      <td>208222.779845</td>\n",
              "      <td>116152.666840</td>\n",
              "      <td>14999.0000</td>\n",
              "      <td>120000.0000</td>\n",
              "      <td>180700.000</td>\n",
              "      <td>267225.000000</td>\n",
              "      <td>500001.0000</td>\n",
              "    </tr>\n",
              "  </tbody>\n",
              "</table>\n",
              "</div>"
            ],
            "text/plain": [
              "                      count           mean  ...            75%          max\n",
              "id                  10320.0    5159.500000  ...    7739.250000   10319.0000\n",
              "longitude           10320.0    -119.593791  ...    -118.010000    -114.5500\n",
              "latitude            10320.0      35.647997  ...      37.720000      41.9200\n",
              "housing_median_age  10320.0      28.544477  ...      37.000000      52.0000\n",
              "total_rooms         10320.0    2652.874031  ...    3144.250000   39320.0000\n",
              "total_bedrooms      10210.0     541.297845  ...     648.750000    6445.0000\n",
              "population          10320.0    1431.618120  ...    1724.000000   28566.0000\n",
              "households          10320.0     502.993605  ...     607.000000    6082.0000\n",
              "median_income       10320.0       3.882051  ...       4.733575      15.0001\n",
              "ocean_proximity     10320.0       2.171802  ...       2.000000       5.0000\n",
              "median_house_value  10320.0  208222.779845  ...  267225.000000  500001.0000\n",
              "\n",
              "[11 rows x 8 columns]"
            ]
          },
          "metadata": {
            "tags": []
          },
          "execution_count": 7
        }
      ]
    },
    {
      "cell_type": "markdown",
      "metadata": {
        "id": "rSQrtVudebWv"
      },
      "source": [
        "**Distribution of the Data**\n",
        "\n",
        "Here we show some bar plots for our features to get a feel for the distribution of the data.\n"
      ]
    },
    {
      "cell_type": "code",
      "metadata": {
        "colab": {
          "base_uri": "https://localhost:8080/",
          "height": 729
        },
        "id": "xgOQMyAAS438",
        "outputId": "41381171-9454-4c92-bccc-6788b7c83c38"
      },
      "source": [
        "import matplotlib.pyplot as plt\n",
        "import seaborn as sns\n",
        "\n",
        "%matplotlib inline\n",
        "\n",
        "td = train_data.drop(['id', 'median_house_value'], axis=1)\n",
        "td.hist(figsize=(15, 10))\n",
        "plt.tight_layout()"
      ],
      "execution_count": null,
      "outputs": [
        {
          "output_type": "display_data",
          "data": {
            "image/png": "[encoded data removed]",
            "text/plain": [
              "<Figure size 1080x720 with 9 Axes>"
            ]
          },
          "metadata": {
            "tags": [],
            "needs_background": "light"
          }
        }
      ]
    },
    {
      "cell_type": "markdown",
      "metadata": {
        "id": "mB-msjLRuGD9"
      },
      "source": [
        "**Heatmap of the Data**"
      ]
    },
    {
      "cell_type": "code",
      "metadata": {
        "colab": {
          "base_uri": "https://localhost:8080/",
          "height": 817
        },
        "id": "D0Lb70r2Lrzq",
        "outputId": "e4d842b4-7566-468b-e979-e62e4d083d9d"
      },
      "source": [
        "corr = train_data.corr()\n",
        "plt.subplots(figsize=(12,12))\n",
        "sns.heatmap(corr, xticklabels=corr.columns, yticklabels=corr.columns, annot=True, cmap=sns.diverging_palette(220, 20, as_cmap=True))"
      ],
      "execution_count": null,
      "outputs": [
        {
          "output_type": "execute_result",
          "data": {
            "text/plain": [
              "<matplotlib.axes._subplots.AxesSubplot at 0x7f199c6eaa50>"
            ]
          },
          "metadata": {
            "tags": []
          },
          "execution_count": 9
        },
        {
          "output_type": "display_data",
          "data": {
            "image/png": "[encoded data removed]",
            "text/plain": [
              "<Figure size 864x864 with 2 Axes>"
            ]
          },
          "metadata": {
            "tags": [],
            "needs_background": "light"
          }
        }
      ]
    },
    {
      "cell_type": "markdown",
      "metadata": {
        "id": "2N-_xcwH-wYX"
      },
      "source": [
        "# **Checking for NaN values in the training data**\n",
        "\n",
        "In this cell we check whether NaN values exist in the data."
      ]
    },
    {
      "cell_type": "code",
      "metadata": {
        "id": "UPfBNvltZ7Cl",
        "colab": {
          "base_uri": "https://localhost:8080/",
          "height": 373
        },
        "outputId": "e2245e94-777a-45fc-fd40-dd7f55798b08"
      },
      "source": [
        "# Checks and reports NaNs in the training data.\n",
        "total = train_data.isnull().sum().sort_values(ascending=False)\n",
        "percent = (train_data.isnull().sum()/train_data.isnull().count()).sort_values(ascending=False)\n",
        "missing_data = pd.concat([total, percent], axis=1, keys=['Total', 'Percent'])\n",
        "missing_data.head(20)"
      ],
      "execution_count": null,
      "outputs": [
        {
          "output_type": "execute_result",
          "data": {
            "text/html": [
              "<div>\n",
              "<style scoped>\n",
              "    .dataframe tbody tr th:only-of-type {\n",
              "        vertical-align: middle;\n",
              "    }\n",
              "\n",
              "    .dataframe tbody tr th {\n",
              "        vertical-align: top;\n",
              "    }\n",
              "\n",
              "    .dataframe thead th {\n",
              "        text-align: right;\n",
              "    }\n",
              "</style>\n",
              "<table border=\"1\" class=\"dataframe\">\n",
              "  <thead>\n",
              "    <tr style=\"text-align: right;\">\n",
              "      <th></th>\n",
              "      <th>Total</th>\n",
              "      <th>Percent</th>\n",
              "    </tr>\n",
              "  </thead>\n",
              "  <tbody>\n",
              "    <tr>\n",
              "      <th>total_bedrooms</th>\n",
              "      <td>110</td>\n",
              "      <td>0.010659</td>\n",
              "    </tr>\n",
              "    <tr>\n",
              "      <th>median_house_value</th>\n",
              "      <td>0</td>\n",
              "      <td>0.000000</td>\n",
              "    </tr>\n",
              "    <tr>\n",
              "      <th>ocean_proximity</th>\n",
              "      <td>0</td>\n",
              "      <td>0.000000</td>\n",
              "    </tr>\n",
              "    <tr>\n",
              "      <th>median_income</th>\n",
              "      <td>0</td>\n",
              "      <td>0.000000</td>\n",
              "    </tr>\n",
              "    <tr>\n",
              "      <th>households</th>\n",
              "      <td>0</td>\n",
              "      <td>0.000000</td>\n",
              "    </tr>\n",
              "    <tr>\n",
              "      <th>population</th>\n",
              "      <td>0</td>\n",
              "      <td>0.000000</td>\n",
              "    </tr>\n",
              "    <tr>\n",
              "      <th>total_rooms</th>\n",
              "      <td>0</td>\n",
              "      <td>0.000000</td>\n",
              "    </tr>\n",
              "    <tr>\n",
              "      <th>housing_median_age</th>\n",
              "      <td>0</td>\n",
              "      <td>0.000000</td>\n",
              "    </tr>\n",
              "    <tr>\n",
              "      <th>latitude</th>\n",
              "      <td>0</td>\n",
              "      <td>0.000000</td>\n",
              "    </tr>\n",
              "    <tr>\n",
              "      <th>longitude</th>\n",
              "      <td>0</td>\n",
              "      <td>0.000000</td>\n",
              "    </tr>\n",
              "    <tr>\n",
              "      <th>id</th>\n",
              "      <td>0</td>\n",
              "      <td>0.000000</td>\n",
              "    </tr>\n",
              "  </tbody>\n",
              "</table>\n",
              "</div>"
            ],
            "text/plain": [
              "                    Total   Percent\n",
              "total_bedrooms        110  0.010659\n",
              "median_house_value      0  0.000000\n",
              "ocean_proximity         0  0.000000\n",
              "median_income           0  0.000000\n",
              "households              0  0.000000\n",
              "population              0  0.000000\n",
              "total_rooms             0  0.000000\n",
              "housing_median_age      0  0.000000\n",
              "latitude                0  0.000000\n",
              "longitude               0  0.000000\n",
              "id                      0  0.000000"
            ]
          },
          "metadata": {
            "tags": []
          },
          "execution_count": 10
        }
      ]
    },
    {
      "cell_type": "code",
      "metadata": {
        "colab": {
          "base_uri": "https://localhost:8080/",
          "height": 343
        },
        "id": "XCPDkULUOLEO",
        "outputId": "6aea377c-3b9c-4e1b-8b0a-7719b3f3dd3c"
      },
      "source": [
        "# Checks and reports NaNs in the test data.\n",
        "total = test_data.isnull().sum().sort_values(ascending=False)\n",
        "percent = (test_data.isnull().sum()/test_data.isnull().count()).sort_values(ascending=False)\n",
        "missing_data = pd.concat([total, percent], axis=1, keys=['Total', 'Percent'])\n",
        "missing_data.head(20)"
      ],
      "execution_count": null,
      "outputs": [
        {
          "output_type": "execute_result",
          "data": {
            "text/html": [
              "<div>\n",
              "<style scoped>\n",
              "    .dataframe tbody tr th:only-of-type {\n",
              "        vertical-align: middle;\n",
              "    }\n",
              "\n",
              "    .dataframe tbody tr th {\n",
              "        vertical-align: top;\n",
              "    }\n",
              "\n",
              "    .dataframe thead th {\n",
              "        text-align: right;\n",
              "    }\n",
              "</style>\n",
              "<table border=\"1\" class=\"dataframe\">\n",
              "  <thead>\n",
              "    <tr style=\"text-align: right;\">\n",
              "      <th></th>\n",
              "      <th>Total</th>\n",
              "      <th>Percent</th>\n",
              "    </tr>\n",
              "  </thead>\n",
              "  <tbody>\n",
              "    <tr>\n",
              "      <th>total_bedrooms</th>\n",
              "      <td>97</td>\n",
              "      <td>0.009399</td>\n",
              "    </tr>\n",
              "    <tr>\n",
              "      <th>ocean_proximity</th>\n",
              "      <td>0</td>\n",
              "      <td>0.000000</td>\n",
              "    </tr>\n",
              "    <tr>\n",
              "      <th>median_income</th>\n",
              "      <td>0</td>\n",
              "      <td>0.000000</td>\n",
              "    </tr>\n",
              "    <tr>\n",
              "      <th>households</th>\n",
              "      <td>0</td>\n",
              "      <td>0.000000</td>\n",
              "    </tr>\n",
              "    <tr>\n",
              "      <th>population</th>\n",
              "      <td>0</td>\n",
              "      <td>0.000000</td>\n",
              "    </tr>\n",
              "    <tr>\n",
              "      <th>total_rooms</th>\n",
              "      <td>0</td>\n",
              "      <td>0.000000</td>\n",
              "    </tr>\n",
              "    <tr>\n",
              "      <th>housing_median_age</th>\n",
              "      <td>0</td>\n",
              "      <td>0.000000</td>\n",
              "    </tr>\n",
              "    <tr>\n",
              "      <th>latitude</th>\n",
              "      <td>0</td>\n",
              "      <td>0.000000</td>\n",
              "    </tr>\n",
              "    <tr>\n",
              "      <th>longitude</th>\n",
              "      <td>0</td>\n",
              "      <td>0.000000</td>\n",
              "    </tr>\n",
              "    <tr>\n",
              "      <th>id</th>\n",
              "      <td>0</td>\n",
              "      <td>0.000000</td>\n",
              "    </tr>\n",
              "  </tbody>\n",
              "</table>\n",
              "</div>"
            ],
            "text/plain": [
              "                    Total   Percent\n",
              "total_bedrooms         97  0.009399\n",
              "ocean_proximity         0  0.000000\n",
              "median_income           0  0.000000\n",
              "households              0  0.000000\n",
              "population              0  0.000000\n",
              "total_rooms             0  0.000000\n",
              "housing_median_age      0  0.000000\n",
              "latitude                0  0.000000\n",
              "longitude               0  0.000000\n",
              "id                      0  0.000000"
            ]
          },
          "metadata": {
            "tags": []
          },
          "execution_count": 11
        }
      ]
    },
    {
      "cell_type": "markdown",
      "metadata": {
        "id": "FaRW9_tfK-AF"
      },
      "source": [
        "**Here we could replace NaN values, but I chose to let my pipeline handle it using a SimpleImputer object later on.**\n",
        "\n"
      ]
    },
    {
      "cell_type": "code",
      "metadata": {
        "id": "DfPuU8SNTKss"
      },
      "source": [
        "# Replace NaNs in the training data.\n",
        "#mean_value=train_data['total_bedrooms'].mean()\n",
        "#train_data['total_bedrooms']=train_data['total_bedrooms'].fillna(mean_value)\n",
        "\n",
        "# Replace NaNs in the test data.\n",
        "#mean_value=test_data['total_bedrooms'].mean()\n",
        "#test_data['total_bedrooms']=test_data['total_bedrooms'].fillna(mean_value)"
      ],
      "execution_count": null,
      "outputs": []
    },
    {
      "cell_type": "markdown",
      "metadata": {
        "id": "4239HR4aD-4t"
      },
      "source": [
        "# **Outliers**\n",
        "\n",
        "To get a grasp of how many outliers are in each feature, here we use interquartile ranges to determine which values are outliers using 25% as our lower bound, and 75% as our upper bound.\n",
        "\n",
        "\n",
        "**I chose to ignore these outliers as they were essential to the models performance.**"
      ]
    },
    {
      "cell_type": "code",
      "metadata": {
        "colab": {
          "base_uri": "https://localhost:8080/",
          "height": 373
        },
        "id": "3PbSzWJHjOuk",
        "outputId": "f0c14130-e18b-4e1c-9eb4-353142b861bb"
      },
      "source": [
        "higherQ = .75\n",
        "lowerQ =.25\n",
        "\n",
        "quantiles = train_data.iloc[:, :].quantile([lowerQ, higherQ]).transpose()\n",
        "\n",
        "# Calculates thresholds for deeming values as outliers and stores them into a pandas dataframe.\n",
        "outliers = pd.DataFrame({'Lower Threshold' : quantiles[lowerQ] - (1.5 * (quantiles[higherQ] - quantiles[lowerQ])),\n",
        "                         'Upper Threshold' : quantiles[higherQ] + (1.5 * (quantiles[higherQ] - quantiles[lowerQ])),\n",
        "                         'Outliers' : 0\n",
        "                         })\n",
        "\n",
        "# Calculates how many outliers are in each column.\n",
        "for column in train_data.iloc[:, :].columns:\n",
        "    lower_val = outliers.at[column, 'Lower Threshold']\n",
        "    upper_val = outliers.at[column, 'Upper Threshold']\n",
        "\n",
        "    outliers.at[column, 'Outliers'] = sum(train_data[column] < lower_val) + sum(train_data[column] > upper_val)\n",
        "\n",
        "outliers\n"
      ],
      "execution_count": null,
      "outputs": [
        {
          "output_type": "execute_result",
          "data": {
            "text/html": [
              "<div>\n",
              "<style scoped>\n",
              "    .dataframe tbody tr th:only-of-type {\n",
              "        vertical-align: middle;\n",
              "    }\n",
              "\n",
              "    .dataframe tbody tr th {\n",
              "        vertical-align: top;\n",
              "    }\n",
              "\n",
              "    .dataframe thead th {\n",
              "        text-align: right;\n",
              "    }\n",
              "</style>\n",
              "<table border=\"1\" class=\"dataframe\">\n",
              "  <thead>\n",
              "    <tr style=\"text-align: right;\">\n",
              "      <th></th>\n",
              "      <th>Lower Threshold</th>\n",
              "      <th>Upper Threshold</th>\n",
              "      <th>Outliers</th>\n",
              "    </tr>\n",
              "  </thead>\n",
              "  <tbody>\n",
              "    <tr>\n",
              "      <th>id</th>\n",
              "      <td>-5159.500000</td>\n",
              "      <td>15478.500000</td>\n",
              "      <td>0</td>\n",
              "    </tr>\n",
              "    <tr>\n",
              "      <th>longitude</th>\n",
              "      <td>-127.510000</td>\n",
              "      <td>-112.310000</td>\n",
              "      <td>0</td>\n",
              "    </tr>\n",
              "    <tr>\n",
              "      <th>latitude</th>\n",
              "      <td>28.270000</td>\n",
              "      <td>43.390000</td>\n",
              "      <td>0</td>\n",
              "    </tr>\n",
              "    <tr>\n",
              "      <th>housing_median_age</th>\n",
              "      <td>-10.500000</td>\n",
              "      <td>65.500000</td>\n",
              "      <td>0</td>\n",
              "    </tr>\n",
              "    <tr>\n",
              "      <th>total_rooms</th>\n",
              "      <td>-1063.875000</td>\n",
              "      <td>5669.125000</td>\n",
              "      <td>688</td>\n",
              "    </tr>\n",
              "    <tr>\n",
              "      <th>total_bedrooms</th>\n",
              "      <td>-237.500000</td>\n",
              "      <td>1180.500000</td>\n",
              "      <td>648</td>\n",
              "    </tr>\n",
              "    <tr>\n",
              "      <th>population</th>\n",
              "      <td>-621.000000</td>\n",
              "      <td>3131.000000</td>\n",
              "      <td>620</td>\n",
              "    </tr>\n",
              "    <tr>\n",
              "      <th>households</th>\n",
              "      <td>-215.500000</td>\n",
              "      <td>1100.500000</td>\n",
              "      <td>623</td>\n",
              "    </tr>\n",
              "    <tr>\n",
              "      <th>median_income</th>\n",
              "      <td>-0.642113</td>\n",
              "      <td>7.958988</td>\n",
              "      <td>357</td>\n",
              "    </tr>\n",
              "    <tr>\n",
              "      <th>ocean_proximity</th>\n",
              "      <td>-0.500000</td>\n",
              "      <td>3.500000</td>\n",
              "      <td>2504</td>\n",
              "    </tr>\n",
              "    <tr>\n",
              "      <th>median_house_value</th>\n",
              "      <td>-100837.500000</td>\n",
              "      <td>488062.500000</td>\n",
              "      <td>532</td>\n",
              "    </tr>\n",
              "  </tbody>\n",
              "</table>\n",
              "</div>"
            ],
            "text/plain": [
              "                    Lower Threshold  Upper Threshold  Outliers\n",
              "id                     -5159.500000     15478.500000         0\n",
              "longitude               -127.510000      -112.310000         0\n",
              "latitude                  28.270000        43.390000         0\n",
              "housing_median_age       -10.500000        65.500000         0\n",
              "total_rooms            -1063.875000      5669.125000       688\n",
              "total_bedrooms          -237.500000      1180.500000       648\n",
              "population              -621.000000      3131.000000       620\n",
              "households              -215.500000      1100.500000       623\n",
              "median_income             -0.642113         7.958988       357\n",
              "ocean_proximity           -0.500000         3.500000      2504\n",
              "median_house_value   -100837.500000    488062.500000       532"
            ]
          },
          "metadata": {
            "tags": []
          },
          "execution_count": 12
        }
      ]
    },
    {
      "cell_type": "markdown",
      "metadata": {
        "id": "jeiRqYLNgxk6"
      },
      "source": [
        " **Box plot of the training data for outlier visualization**\n"
      ]
    },
    {
      "cell_type": "code",
      "metadata": {
        "colab": {
          "base_uri": "https://localhost:8080/",
          "height": 782
        },
        "id": "b5rLTlbRfMm5",
        "outputId": "a74cbb91-e25a-43a8-d5e3-d25ed3829860"
      },
      "source": [
        "td.boxplot(figsize=(15, 10))\n",
        "plt.tight_layout()"
      ],
      "execution_count": null,
      "outputs": [
        {
          "output_type": "stream",
          "text": [
            "/usr/local/lib/python3.7/dist-packages/numpy/core/_asarray.py:83: VisibleDeprecationWarning: Creating an ndarray from ragged nested sequences (which is a list-or-tuple of lists-or-tuples-or ndarrays with different lengths or shapes) is deprecated. If you meant to do this, you must specify 'dtype=object' when creating the ndarray\n",
            "  return array(a, dtype, copy=False, order=order)\n"
          ],
          "name": "stderr"
        },
        {
          "output_type": "display_data",
          "data": {
            "image/png": "[encoded data removed]",
            "text/plain": [
              "<Figure size 1080x720 with 1 Axes>"
            ]
          },
          "metadata": {
            "tags": [],
            "needs_background": "light"
          }
        }
      ]
    },
    {
      "cell_type": "markdown",
      "metadata": {
        "id": "x_OTHTLSKuYS"
      },
      "source": [
        "**Here we can remove the outliers if we choose to do so.**"
      ]
    },
    {
      "cell_type": "code",
      "metadata": {
        "id": "0h_IU1tS1QBc"
      },
      "source": [
        "#outlier_boundary = train_data.quantile(.75) + (train_data.quantile(.75) - train_data.quantile(.25)) * 1.5\n",
        "#train_data = train_data[train_data <= outlier_boundary].dropna()"
      ],
      "execution_count": null,
      "outputs": []
    },
    {
      "cell_type": "markdown",
      "metadata": {
        "id": "HFaHjKFnRjNN"
      },
      "source": [
        "# **Comparing base models**\n",
        "\n",
        "Here we plot the distribution of the root mean squared errors for our potential base models."
      ]
    },
    {
      "cell_type": "code",
      "metadata": {
        "id": "DTwxFXABpr9X"
      },
      "source": [
        "from sklearn.model_selection import train_test_split\n",
        "\n",
        "y = train_data['median_house_value']\n",
        "X = train_data.drop(['id', 'median_house_value'], axis=1)\n"
      ],
      "execution_count": null,
      "outputs": []
    },
    {
      "cell_type": "markdown",
      "metadata": {
        "id": "C3PZvfXsp6I9"
      },
      "source": [
        "**This function gets the loss distribution of a passed model for a given dataset.**"
      ]
    },
    {
      "cell_type": "code",
      "metadata": {
        "id": "yu4-3WYxR1ww"
      },
      "source": [
        "def get_model_scores(X, y, model):\n",
        "\n",
        "  X_train, X_val, y_train, y_val = train_test_split(X, y, test_size = 0.20, random_state=None)\n",
        "\n",
        "  model.fit(X_train, y_train)\n",
        "  y_pred_train = model.predict(X_train)\n",
        "  y_pred_val = model.predict(X_val)\n",
        "\n",
        "  cv = KFold(n_splits=200, shuffle=True, random_state=5)\n",
        "  train_scores = cross_val_score(model, X_train, y_train, scoring= 'neg_root_mean_squared_error', cv=cv, n_jobs=-1)\n",
        "  val_scores = cross_val_score(model, X_val, y_val, scoring= 'neg_root_mean_squared_error', cv=cv, n_jobs=-1)\n",
        "  train_scores = np.absolute(train_scores)\n",
        "  val_scores = np.absolute(val_scores)\n",
        "\n",
        "  return pd.DataFrame(train_scores), pd.DataFrame(val_scores)"
      ],
      "execution_count": null,
      "outputs": []
    },
    {
      "cell_type": "markdown",
      "metadata": {
        "id": "XgXu1yGXpt9e"
      },
      "source": [
        "**Here we are creating our base models and calculating their loss distribution.**"
      ]
    },
    {
      "cell_type": "code",
      "metadata": {
        "id": "Onm1MeCqRjr-"
      },
      "source": [
        "from sklearn.linear_model import LinearRegression, Ridge, ElasticNet, Lasso\n",
        "from sklearn.pipeline import make_pipeline\n",
        "from sklearn.impute import SimpleImputer\n",
        "from sklearn.metrics import mean_squared_error\n",
        "from sklearn.model_selection import KFold, GridSearchCV, cross_val_score\n",
        "\n",
        "# Creating our pipelines.\n",
        "base_ols_pipe = make_pipeline(SimpleImputer(strategy='mean'), LinearRegression())\n",
        "base_ridge_pipe = make_pipeline(SimpleImputer(strategy='mean'), Ridge())\n",
        "base_elastic_pipe = make_pipeline(SimpleImputer(strategy='mean'), ElasticNet())\n",
        "base_lasso_pipe = make_pipeline(SimpleImputer(strategy='mean'), Lasso())\n",
        "\n",
        "# Grabbing our loss distributions.\n",
        "base_ols_scores_train, base_ols_scores_val = get_model_scores(X, y, base_ols_pipe)\n",
        "base_ridge_scores_train, base_ridge_scores_val = get_model_scores(X, y, base_ridge_pipe)\n",
        "base_elastic_scores_train, base_elastic_scores_val = get_model_scores(X, y, base_elastic_pipe)\n",
        "base_lasso_scores_train, base_lasso_scores_val = get_model_scores(X, y, base_lasso_pipe)"
      ],
      "execution_count": null,
      "outputs": []
    },
    {
      "cell_type": "markdown",
      "metadata": {
        "id": "5iB_28EpppLa"
      },
      "source": [
        "**Here we are generating the plots for our loss distributions.**"
      ]
    },
    {
      "cell_type": "code",
      "metadata": {
        "colab": {
          "base_uri": "https://localhost:8080/",
          "height": 729
        },
        "id": "PrGRZYnIcYaI",
        "outputId": "52fb21f3-8282-4c5a-f35e-b22f7ec0f0b3"
      },
      "source": [
        "# Ordinary Least Squares plots.\n",
        "plots, axs = plt.subplots(4, 2, figsize=(15, 10))\n",
        "axs[0,0].set_title('Base Ordinary Least Squares Training RMSE')\n",
        "sns.histplot(data=base_ols_scores_train, ax=axs[0,0])\n",
        "axs[0,1].set_title('Base Ordinary Least Squares Validation RMSE')\n",
        "sns.histplot(data=base_ols_scores_val, ax=axs[0,1])\n",
        "\n",
        "# Ridge Least Squares plots.\n",
        "axs[1,0].set_title('Base Ridge Least Squares Training RMSE')\n",
        "sns.histplot(data=base_ridge_scores_train, ax=axs[1,0])\n",
        "axs[1,1].set_title('Base Ridge Least Squares Validation RMSE')\n",
        "sns.histplot(data=base_ridge_scores_val, ax=axs[1,1])\n",
        "\n",
        "# Elastic Least Squares plots.\n",
        "axs[2,0].set_title('Base Elastic Least Squares Training RMSE')\n",
        "sns.histplot(data=base_elastic_scores_train, ax=axs[2,0])\n",
        "axs[2,1].set_title('Base Elastic Least Squares Validation RMSE')\n",
        "sns.histplot(data=base_elastic_scores_val, ax=axs[2,1])\n",
        "\n",
        "# Lasso Least Squares plots.\n",
        "axs[3,0].set_title('Base Lasso Least Squares Training RMSE')\n",
        "sns.histplot(data=base_lasso_scores_train, ax=axs[3,0])\n",
        "axs[3,1].set_title('Base Lasso Least Squares Validation RMSE')\n",
        "sns.histplot(data=base_lasso_scores_val, ax=axs[3,1])\n",
        "plots.tight_layout()"
      ],
      "execution_count": null,
      "outputs": [
        {
          "output_type": "display_data",
          "data": {
            "image/png": "[encoded data removed]",
            "text/plain": [
              "<Figure size 1080x720 with 8 Axes>"
            ]
          },
          "metadata": {
            "tags": [],
            "needs_background": "light"
          }
        }
      ]
    },
    {
      "cell_type": "markdown",
      "metadata": {
        "id": "IGoqPvZYr9yE"
      },
      "source": [
        "We can tell from these plots that using a Ridge regression model would probably be the safest bet, with a ordinary least squares model coming in close second. Lasso appears to have more variance, while Ridge's loss values are the most consistent for the lowest error."
      ]
    },
    {
      "cell_type": "markdown",
      "metadata": {
        "id": "qwO1vHFohyU0"
      },
      "source": [
        "# **Creating our model and it's pipeline**\n",
        "\n",
        "Here we create a pipeline for our RidgeCV Linear regression algorithm, and make a TransformedTargetRegressor object as a wrapper to apply a power transformation to make passed features more gaussian-like in distribution (when it is desirable for the model)."
      ]
    },
    {
      "cell_type": "code",
      "metadata": {
        "id": "4u2ImVYmhxlO"
      },
      "source": [
        "from sklearn.compose import TransformedTargetRegressor\n",
        "from sklearn.decomposition import PCA\n",
        "from sklearn.preprocessing import StandardScaler, MinMaxScaler, PowerTransformer\n",
        "\n",
        "ridge_pipe = make_pipeline(SimpleImputer(strategy='mean'), \n",
        "                          PowerTransformer(), \n",
        "                          PCA(n_components=9),\n",
        "                          Ridge())\n",
        "\n",
        "model = TransformedTargetRegressor(regressor=ridge_pipe, \n",
        "                                   transformer=PowerTransformer())\n"
      ],
      "execution_count": null,
      "outputs": []
    },
    {
      "cell_type": "markdown",
      "metadata": {
        "id": "8LcONCjJDwvN"
      },
      "source": [
        "# **Fitting and Training the model**\n",
        "\n",
        "Here we train and fit the model we have chosen. I chose a 20/80 split in training data because it was the most consistent performing split for me. The others had a bit more variance."
      ]
    },
    {
      "cell_type": "code",
      "metadata": {
        "id": "A_6Mz8Wn0w3U",
        "colab": {
          "base_uri": "https://localhost:8080/"
        },
        "outputId": "98dc03f6-5bca-4ba8-869e-7b4b3f708dfd"
      },
      "source": [
        "from statistics import median\n",
        "\n",
        "X_train, X_val, y_train, y_val = train_test_split(X, y, test_size=0.20, random_state=4)\n",
        "model.fit(X_train, y_train)\n",
        "lr_training_pred = model.predict(X_train)\n",
        "lr_val_pred = model.predict(X_val)\n",
        "\n",
        "cv = KFold(n_splits=10, shuffle=True, random_state=1)\n",
        "scores = cross_val_score(model, X, y, scoring= 'neg_root_mean_squared_error', cv=cv, n_jobs=-1)\n",
        "scores = np.absolute(scores)\n",
        "\n",
        "print(\"Median Cross_Val_Score:\");\n",
        "print(median(scores))\n",
        "\n",
        "print(); print(\"Mean of Cross_Val_Scores:\")\n",
        "print(np.mean(scores))\n",
        "\n",
        "print(); print(\"Training Error:\");\n",
        "print(np.sqrt(mean_squared_error(y_train, lr_training_pred)))\n",
        "\n",
        "print(); print(\"Validation Error:\")\n",
        "print(np.sqrt(mean_squared_error(y_val, lr_val_pred)))"
      ],
      "execution_count": null,
      "outputs": [
        {
          "output_type": "stream",
          "text": [
            "Median Cross_Val_Score:\n",
            "69016.22329890914\n",
            "\n",
            "Mean of Cross_Val_Scores:\n",
            "69564.51726711565\n",
            "\n",
            "Training Error:\n",
            "67585.81265045208\n",
            "\n",
            "Validation Error:\n",
            "65130.67610488537\n"
          ],
          "name": "stdout"
        }
      ]
    },
    {
      "cell_type": "markdown",
      "metadata": {
        "id": "C6eHMUyXJQAJ"
      },
      "source": [
        "# **Output**\n",
        "\n",
        "Generates and saves our test data's predictions to a CSV file named 'my_submission.csv'"
      ]
    },
    {
      "cell_type": "code",
      "metadata": {
        "id": "i2hZznuGJTFT",
        "colab": {
          "base_uri": "https://localhost:8080/",
          "height": 418
        },
        "outputId": "d0876cb8-e708-48ba-e27f-8287b5eea711"
      },
      "source": [
        "X_test = test_data.drop(['id'], axis=1)\n",
        "\n",
        "test_pred = model.predict(X_test)\n",
        "\n",
        "output = pd.DataFrame({'id': test_data.id, 'median_house_value': test_pred.astype(int)})\n",
        "output.to_csv('my_submission.csv', index=False)\n",
        "print(\"Your submission was successfully saved!\")\n",
        "output"
      ],
      "execution_count": null,
      "outputs": [
        {
          "output_type": "stream",
          "text": [
            "Your submission was successfully saved!\n"
          ],
          "name": "stdout"
        },
        {
          "output_type": "execute_result",
          "data": {
            "text/html": [
              "<div>\n",
              "<style scoped>\n",
              "    .dataframe tbody tr th:only-of-type {\n",
              "        vertical-align: middle;\n",
              "    }\n",
              "\n",
              "    .dataframe tbody tr th {\n",
              "        vertical-align: top;\n",
              "    }\n",
              "\n",
              "    .dataframe thead th {\n",
              "        text-align: right;\n",
              "    }\n",
              "</style>\n",
              "<table border=\"1\" class=\"dataframe\">\n",
              "  <thead>\n",
              "    <tr style=\"text-align: right;\">\n",
              "      <th></th>\n",
              "      <th>id</th>\n",
              "      <th>median_house_value</th>\n",
              "    </tr>\n",
              "  </thead>\n",
              "  <tbody>\n",
              "    <tr>\n",
              "      <th>0</th>\n",
              "      <td>2814</td>\n",
              "      <td>167541</td>\n",
              "    </tr>\n",
              "    <tr>\n",
              "      <th>1</th>\n",
              "      <td>6277</td>\n",
              "      <td>136442</td>\n",
              "    </tr>\n",
              "    <tr>\n",
              "      <th>2</th>\n",
              "      <td>2625</td>\n",
              "      <td>164855</td>\n",
              "    </tr>\n",
              "    <tr>\n",
              "      <th>3</th>\n",
              "      <td>3362</td>\n",
              "      <td>85478</td>\n",
              "    </tr>\n",
              "    <tr>\n",
              "      <th>4</th>\n",
              "      <td>8391</td>\n",
              "      <td>186431</td>\n",
              "    </tr>\n",
              "    <tr>\n",
              "      <th>...</th>\n",
              "      <td>...</td>\n",
              "      <td>...</td>\n",
              "    </tr>\n",
              "    <tr>\n",
              "      <th>10315</th>\n",
              "      <td>9753</td>\n",
              "      <td>320082</td>\n",
              "    </tr>\n",
              "    <tr>\n",
              "      <th>10316</th>\n",
              "      <td>1546</td>\n",
              "      <td>272878</td>\n",
              "    </tr>\n",
              "    <tr>\n",
              "      <th>10317</th>\n",
              "      <td>2766</td>\n",
              "      <td>51358</td>\n",
              "    </tr>\n",
              "    <tr>\n",
              "      <th>10318</th>\n",
              "      <td>2784</td>\n",
              "      <td>134981</td>\n",
              "    </tr>\n",
              "    <tr>\n",
              "      <th>10319</th>\n",
              "      <td>4756</td>\n",
              "      <td>145018</td>\n",
              "    </tr>\n",
              "  </tbody>\n",
              "</table>\n",
              "<p>10320 rows × 2 columns</p>\n",
              "</div>"
            ],
            "text/plain": [
              "         id  median_house_value\n",
              "0      2814              167541\n",
              "1      6277              136442\n",
              "2      2625              164855\n",
              "3      3362               85478\n",
              "4      8391              186431\n",
              "...     ...                 ...\n",
              "10315  9753              320082\n",
              "10316  1546              272878\n",
              "10317  2766               51358\n",
              "10318  2784              134981\n",
              "10319  4756              145018\n",
              "\n",
              "[10320 rows x 2 columns]"
            ]
          },
          "metadata": {
            "tags": []
          },
          "execution_count": 63
        }
      ]
    }
  ]
}
