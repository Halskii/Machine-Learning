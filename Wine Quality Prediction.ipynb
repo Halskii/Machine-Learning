{
  "nbformat": 4,
  "nbformat_minor": 0,
  "metadata": {
    "colab": {
      "name": "Wine Quality Prediction.ipynb",
      "provenance": [],
      "collapsed_sections": [
        "oe9ionfd3SYg",
        "O9ORidBE-nh5",
        "mkuNh29SLorS",
        "2N-_xcwH-wYX",
        "4239HR4aD-4t",
        "8LcONCjJDwvN",
        "qwO1vHFohyU0",
        "WLdwa0m6f6x4",
        "W48CZFa7Iroy",
        "C6eHMUyXJQAJ"
      ],
      "authorship_tag": "ABX9TyPJU76O+EPoURWMWFm2mDu7",
      "include_colab_link": true
    },
    "kernelspec": {
      "display_name": "Python 3",
      "name": "python3"
    }
  },
  "cells": [
    {
      "cell_type": "markdown",
      "metadata": {
        "id": "view-in-github",
        "colab_type": "text"
      },
      "source": [
        "<a href=\"https://colab.research.google.com/github/Halskii/Machine-Learning/blob/main/CAP4611Assignment_2_James_Hall.ipynb\" target=\"_parent\"><img src=\"https://colab.research.google.com/assets/colab-badge.svg\" alt=\"Open In Colab\"/></a>"
      ]
    },
    {
      "cell_type": "markdown",
      "metadata": {
        "id": "oe9ionfd3SYg"
      },
      "source": [
        "# **Uploading the datasets**\n",
        "\n",
        "For this notebook to run you must first upload the training and testing CSV files into the google collab session."
      ]
    },
    {
      "cell_type": "code",
      "metadata": {
        "colab": {
          "resources": {
            "http://localhost:8080/nbextensions/google.colab/files.js": {
              "data": "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",
              "ok": true,
              "headers": [
                [
                  "content-type",
                  "application/javascript"
                ]
              ],
              "status": 200,
              "status_text": ""
            }
          },
          "base_uri": "https://localhost:8080/",
          "height": 140
        },
        "id": "mu9WK_3B68YN",
        "outputId": "143edbd6-7222-4ab9-f3f1-a00ba6567e25"
      },
      "source": [
        "from google.colab import files\n",
        "\n",
        "uploaded = files.upload()\n",
        "\n",
        "for fn in uploaded.keys():\n",
        "  print('User uploaded file \"{name}\" with length {length} bytes'.format(name=fn, length=len(uploaded[fn])))\n"
      ],
      "execution_count": null,
      "outputs": [
        {
          "output_type": "display_data",
          "data": {
            "text/html": [
              "\n",
              "     <input type=\"file\" id=\"files-d7565df3-ded4-40bc-8b27-8208a67b82ac\" name=\"files[]\" multiple disabled\n",
              "        style=\"border:none\" />\n",
              "     <output id=\"result-d7565df3-ded4-40bc-8b27-8208a67b82ac\">\n",
              "      Upload widget is only available when the cell has been executed in the\n",
              "      current browser session. Please rerun this cell to enable.\n",
              "      </output>\n",
              "      <script src=\"/nbextensions/google.colab/files.js\"></script> "
            ],
            "text/plain": [
              "<IPython.core.display.HTML object>"
            ]
          },
          "metadata": {
            "tags": []
          }
        },
        {
          "output_type": "stream",
          "text": [
            "Saving test.csv to test (1).csv\n",
            "Saving train.csv to train (1).csv\n",
            "User uploaded file \"test.csv\" with length 48751 bytes\n",
            "User uploaded file \"train.csv\" with length 50197 bytes\n"
          ],
          "name": "stdout"
        }
      ]
    },
    {
      "cell_type": "markdown",
      "metadata": {
        "id": "Q7ZI11ao7DmA"
      },
      "source": [
        ""
      ]
    },
    {
      "cell_type": "markdown",
      "metadata": {
        "id": "O9ORidBE-nh5"
      },
      "source": [
        "# **Importing the training and test datasets**\n",
        "\n",
        "This section converts the uploaded CSV files into pandas dataframes via the read_csv function."
      ]
    },
    {
      "cell_type": "code",
      "metadata": {
        "colab": {
          "base_uri": "https://localhost:8080/"
        },
        "id": "y3zPuwdC7gWC",
        "outputId": "54f32652-4cc2-482f-9ea4-a4013bca5207"
      },
      "source": [
        "import pandas as pd\n",
        "import numpy as np\n",
        "import io\n",
        "\n",
        "train_data = pd.read_csv(io.BytesIO(uploaded['train.csv']))\n",
        "train_data.head()\n",
        "train_data.info()"
      ],
      "execution_count": null,
      "outputs": [
        {
          "output_type": "stream",
          "text": [
            "<class 'pandas.core.frame.DataFrame'>\n",
            "RangeIndex: 799 entries, 0 to 798\n",
            "Data columns (total 13 columns):\n",
            " #   Column                Non-Null Count  Dtype  \n",
            "---  ------                --------------  -----  \n",
            " 0   id                    799 non-null    int64  \n",
            " 1   fixed acidity         799 non-null    float64\n",
            " 2   volatile acidity      799 non-null    float64\n",
            " 3   citric acid           799 non-null    float64\n",
            " 4   residual sugar        799 non-null    float64\n",
            " 5   chlorides             799 non-null    float64\n",
            " 6   free sulfur dioxide   799 non-null    float64\n",
            " 7   total sulfur dioxide  799 non-null    float64\n",
            " 8   density               799 non-null    float64\n",
            " 9   pH                    799 non-null    float64\n",
            " 10  sulphates             799 non-null    float64\n",
            " 11  alcohol               799 non-null    float64\n",
            " 12  quality               799 non-null    int64  \n",
            "dtypes: float64(11), int64(2)\n",
            "memory usage: 81.3 KB\n"
          ],
          "name": "stdout"
        }
      ]
    },
    {
      "cell_type": "code",
      "metadata": {
        "colab": {
          "base_uri": "https://localhost:8080/"
        },
        "id": "5fTBqlKR-KZO",
        "outputId": "91027377-178d-4c29-9005-98bba18ea3ac"
      },
      "source": [
        "test_data = pd.read_csv(io.BytesIO(uploaded['test.csv']))\n",
        "test_data.head()\n",
        "test_data.info()"
      ],
      "execution_count": null,
      "outputs": [
        {
          "output_type": "stream",
          "text": [
            "<class 'pandas.core.frame.DataFrame'>\n",
            "RangeIndex: 800 entries, 0 to 799\n",
            "Data columns (total 12 columns):\n",
            " #   Column                Non-Null Count  Dtype  \n",
            "---  ------                --------------  -----  \n",
            " 0   id                    800 non-null    int64  \n",
            " 1   fixed acidity         800 non-null    float64\n",
            " 2   volatile acidity      800 non-null    float64\n",
            " 3   citric acid           800 non-null    float64\n",
            " 4   residual sugar        800 non-null    float64\n",
            " 5   chlorides             800 non-null    float64\n",
            " 6   free sulfur dioxide   800 non-null    float64\n",
            " 7   total sulfur dioxide  800 non-null    float64\n",
            " 8   density               800 non-null    float64\n",
            " 9   pH                    800 non-null    float64\n",
            " 10  sulphates             800 non-null    float64\n",
            " 11  alcohol               800 non-null    float64\n",
            "dtypes: float64(11), int64(1)\n",
            "memory usage: 75.1 KB\n"
          ],
          "name": "stdout"
        }
      ]
    },
    {
      "cell_type": "markdown",
      "metadata": {
        "id": "mkuNh29SLorS"
      },
      "source": [
        "# **Analysis of our data**\n",
        "\n",
        "Contained in this section are a series of visual tools for getting a feel for our data. Through our heatmap we can see the correlation of our datasets different features. From this we can surmise that while there are some features that should have a big impact on our quality of wine, there are obviously a few fields that make little to no difference.\n",
        "\n",
        "Thankfully, we have a method built into our pipeline later in the program that will determine the most applicable features to use in the prediction of wine quality.\n",
        "\n",
        "The plots that follow the heat map are to show the distribution of the individual features in the form of bad vs good wine (0 vs 1)"
      ]
    },
    {
      "cell_type": "code",
      "metadata": {
        "colab": {
          "base_uri": "https://localhost:8080/",
          "height": 432
        },
        "id": "CICD6Aymym8t",
        "outputId": "61357821-19c0-4634-d00d-a09300d3260c"
      },
      "source": [
        "train_data.describe().T"
      ],
      "execution_count": null,
      "outputs": [
        {
          "output_type": "execute_result",
          "data": {
            "text/html": [
              "<div>\n",
              "<style scoped>\n",
              "    .dataframe tbody tr th:only-of-type {\n",
              "        vertical-align: middle;\n",
              "    }\n",
              "\n",
              "    .dataframe tbody tr th {\n",
              "        vertical-align: top;\n",
              "    }\n",
              "\n",
              "    .dataframe thead th {\n",
              "        text-align: right;\n",
              "    }\n",
              "</style>\n",
              "<table border=\"1\" class=\"dataframe\">\n",
              "  <thead>\n",
              "    <tr style=\"text-align: right;\">\n",
              "      <th></th>\n",
              "      <th>count</th>\n",
              "      <th>mean</th>\n",
              "      <th>std</th>\n",
              "      <th>min</th>\n",
              "      <th>25%</th>\n",
              "      <th>50%</th>\n",
              "      <th>75%</th>\n",
              "      <th>max</th>\n",
              "    </tr>\n",
              "  </thead>\n",
              "  <tbody>\n",
              "    <tr>\n",
              "      <th>id</th>\n",
              "      <td>799.0</td>\n",
              "      <td>399.000000</td>\n",
              "      <td>230.795725</td>\n",
              "      <td>0.00000</td>\n",
              "      <td>199.500000</td>\n",
              "      <td>399.00000</td>\n",
              "      <td>598.500</td>\n",
              "      <td>798.00000</td>\n",
              "    </tr>\n",
              "    <tr>\n",
              "      <th>fixed acidity</th>\n",
              "      <td>799.0</td>\n",
              "      <td>8.404255</td>\n",
              "      <td>1.820637</td>\n",
              "      <td>4.60000</td>\n",
              "      <td>7.100000</td>\n",
              "      <td>7.90000</td>\n",
              "      <td>9.300</td>\n",
              "      <td>15.60000</td>\n",
              "    </tr>\n",
              "    <tr>\n",
              "      <th>volatile acidity</th>\n",
              "      <td>799.0</td>\n",
              "      <td>0.532972</td>\n",
              "      <td>0.180163</td>\n",
              "      <td>0.16000</td>\n",
              "      <td>0.395000</td>\n",
              "      <td>0.52000</td>\n",
              "      <td>0.640</td>\n",
              "      <td>1.58000</td>\n",
              "    </tr>\n",
              "    <tr>\n",
              "      <th>citric acid</th>\n",
              "      <td>799.0</td>\n",
              "      <td>0.275207</td>\n",
              "      <td>0.199743</td>\n",
              "      <td>0.00000</td>\n",
              "      <td>0.090000</td>\n",
              "      <td>0.26000</td>\n",
              "      <td>0.440</td>\n",
              "      <td>1.00000</td>\n",
              "    </tr>\n",
              "    <tr>\n",
              "      <th>residual sugar</th>\n",
              "      <td>799.0</td>\n",
              "      <td>2.543930</td>\n",
              "      <td>1.380552</td>\n",
              "      <td>1.20000</td>\n",
              "      <td>1.900000</td>\n",
              "      <td>2.20000</td>\n",
              "      <td>2.600</td>\n",
              "      <td>15.50000</td>\n",
              "    </tr>\n",
              "    <tr>\n",
              "      <th>chlorides</th>\n",
              "      <td>799.0</td>\n",
              "      <td>0.087874</td>\n",
              "      <td>0.046212</td>\n",
              "      <td>0.01200</td>\n",
              "      <td>0.071000</td>\n",
              "      <td>0.08000</td>\n",
              "      <td>0.091</td>\n",
              "      <td>0.61000</td>\n",
              "    </tr>\n",
              "    <tr>\n",
              "      <th>free sulfur dioxide</th>\n",
              "      <td>799.0</td>\n",
              "      <td>15.732791</td>\n",
              "      <td>10.102371</td>\n",
              "      <td>1.00000</td>\n",
              "      <td>7.000000</td>\n",
              "      <td>14.00000</td>\n",
              "      <td>21.000</td>\n",
              "      <td>55.00000</td>\n",
              "    </tr>\n",
              "    <tr>\n",
              "      <th>total sulfur dioxide</th>\n",
              "      <td>799.0</td>\n",
              "      <td>46.568836</td>\n",
              "      <td>32.453258</td>\n",
              "      <td>6.00000</td>\n",
              "      <td>22.000000</td>\n",
              "      <td>37.00000</td>\n",
              "      <td>65.000</td>\n",
              "      <td>278.00000</td>\n",
              "    </tr>\n",
              "    <tr>\n",
              "      <th>density</th>\n",
              "      <td>799.0</td>\n",
              "      <td>0.996901</td>\n",
              "      <td>0.001891</td>\n",
              "      <td>0.99064</td>\n",
              "      <td>0.995725</td>\n",
              "      <td>0.99682</td>\n",
              "      <td>0.998</td>\n",
              "      <td>1.00369</td>\n",
              "    </tr>\n",
              "    <tr>\n",
              "      <th>pH</th>\n",
              "      <td>799.0</td>\n",
              "      <td>3.310300</td>\n",
              "      <td>0.158626</td>\n",
              "      <td>2.74000</td>\n",
              "      <td>3.210000</td>\n",
              "      <td>3.31000</td>\n",
              "      <td>3.400</td>\n",
              "      <td>4.01000</td>\n",
              "    </tr>\n",
              "    <tr>\n",
              "      <th>sulphates</th>\n",
              "      <td>799.0</td>\n",
              "      <td>0.663692</td>\n",
              "      <td>0.178889</td>\n",
              "      <td>0.37000</td>\n",
              "      <td>0.550000</td>\n",
              "      <td>0.62000</td>\n",
              "      <td>0.735</td>\n",
              "      <td>2.00000</td>\n",
              "    </tr>\n",
              "    <tr>\n",
              "      <th>alcohol</th>\n",
              "      <td>799.0</td>\n",
              "      <td>10.371652</td>\n",
              "      <td>1.038703</td>\n",
              "      <td>8.40000</td>\n",
              "      <td>9.500000</td>\n",
              "      <td>10.10000</td>\n",
              "      <td>11.000</td>\n",
              "      <td>14.00000</td>\n",
              "    </tr>\n",
              "    <tr>\n",
              "      <th>quality</th>\n",
              "      <td>799.0</td>\n",
              "      <td>0.534418</td>\n",
              "      <td>0.499126</td>\n",
              "      <td>0.00000</td>\n",
              "      <td>0.000000</td>\n",
              "      <td>1.00000</td>\n",
              "      <td>1.000</td>\n",
              "      <td>1.00000</td>\n",
              "    </tr>\n",
              "  </tbody>\n",
              "</table>\n",
              "</div>"
            ],
            "text/plain": [
              "                      count        mean  ...      75%        max\n",
              "id                    799.0  399.000000  ...  598.500  798.00000\n",
              "fixed acidity         799.0    8.404255  ...    9.300   15.60000\n",
              "volatile acidity      799.0    0.532972  ...    0.640    1.58000\n",
              "citric acid           799.0    0.275207  ...    0.440    1.00000\n",
              "residual sugar        799.0    2.543930  ...    2.600   15.50000\n",
              "chlorides             799.0    0.087874  ...    0.091    0.61000\n",
              "free sulfur dioxide   799.0   15.732791  ...   21.000   55.00000\n",
              "total sulfur dioxide  799.0   46.568836  ...   65.000  278.00000\n",
              "density               799.0    0.996901  ...    0.998    1.00369\n",
              "pH                    799.0    3.310300  ...    3.400    4.01000\n",
              "sulphates             799.0    0.663692  ...    0.735    2.00000\n",
              "alcohol               799.0   10.371652  ...   11.000   14.00000\n",
              "quality               799.0    0.534418  ...    1.000    1.00000\n",
              "\n",
              "[13 rows x 8 columns]"
            ]
          },
          "metadata": {
            "tags": []
          },
          "execution_count": 315
        }
      ]
    },
    {
      "cell_type": "code",
      "metadata": {
        "colab": {
          "base_uri": "https://localhost:8080/",
          "height": 696
        },
        "id": "D0Lb70r2Lrzq",
        "outputId": "d4fff27a-8575-4f21-a32d-fbd5a312850f"
      },
      "source": [
        "import matplotlib.pyplot as plt\n",
        "import seaborn as sns\n",
        "%matplotlib inline\n",
        "\n",
        "corr = train_data.corr()\n",
        "plt.subplots(figsize=(15,10))\n",
        "sns.heatmap(corr, xticklabels=corr.columns, yticklabels=corr.columns, annot=True, cmap=sns.diverging_palette(220, 20, as_cmap=True))"
      ],
      "execution_count": null,
      "outputs": [
        {
          "output_type": "execute_result",
          "data": {
            "text/plain": [
              "<matplotlib.axes._subplots.AxesSubplot at 0x7fc419599dd0>"
            ]
          },
          "metadata": {
            "tags": []
          },
          "execution_count": 316
        },
        {
          "output_type": "display_data",
          "data": {
            "image/png": "[encoded data removed]",
            "text/plain": [
              "<Figure size 1080x720 with 2 Axes>"
            ]
          },
          "metadata": {
            "tags": [],
            "needs_background": "light"
          }
        }
      ]
    },
    {
      "cell_type": "code",
      "metadata": {
        "colab": {
          "base_uri": "https://localhost:8080/",
          "height": 296
        },
        "id": "xgOQMyAAS438",
        "outputId": "10bd848d-fa43-4527-e8e3-12a4fa9e9955"
      },
      "source": [
        "fig = plt.figure(figsize = (6,4))\n",
        "sns.barplot(x = 'quality', y = 'fixed acidity', data = train_data)"
      ],
      "execution_count": null,
      "outputs": [
        {
          "output_type": "execute_result",
          "data": {
            "text/plain": [
              "<matplotlib.axes._subplots.AxesSubplot at 0x7fc4195930d0>"
            ]
          },
          "metadata": {
            "tags": []
          },
          "execution_count": 317
        },
        {
          "output_type": "display_data",
          "data": {
            "image/png": "[encoded data removed]",
            "text/plain": [
              "<Figure size 432x288 with 1 Axes>"
            ]
          },
          "metadata": {
            "tags": [],
            "needs_background": "light"
          }
        }
      ]
    },
    {
      "cell_type": "code",
      "metadata": {
        "colab": {
          "base_uri": "https://localhost:8080/",
          "height": 296
        },
        "id": "RQWDhq_JTH9d",
        "outputId": "70b0de88-4220-4efb-b420-a7e518cf922b"
      },
      "source": [
        "fig = plt.figure(figsize = (6,4))\n",
        "sns.barplot(x = 'quality', y = 'volatile acidity', data = train_data)"
      ],
      "execution_count": null,
      "outputs": [
        {
          "output_type": "execute_result",
          "data": {
            "text/plain": [
              "<matplotlib.axes._subplots.AxesSubplot at 0x7fc41ae54fd0>"
            ]
          },
          "metadata": {
            "tags": []
          },
          "execution_count": 300
        },
        {
          "output_type": "display_data",
          "data": {
            "image/png": "[encoded data removed]",
            "text/plain": [
              "<Figure size 432x288 with 1 Axes>"
            ]
          },
          "metadata": {
            "tags": [],
            "needs_background": "light"
          }
        }
      ]
    },
    {
      "cell_type": "code",
      "metadata": {
        "colab": {
          "base_uri": "https://localhost:8080/",
          "height": 296
        },
        "id": "7NFdw6FcTIHW",
        "outputId": "6ea0262d-7308-4993-85bd-b0e6cb16aeca"
      },
      "source": [
        "fig = plt.figure(figsize = (6,4))\n",
        "sns.barplot(x = 'quality', y = 'citric acid', data = train_data)"
      ],
      "execution_count": null,
      "outputs": [
        {
          "output_type": "execute_result",
          "data": {
            "text/plain": [
              "<matplotlib.axes._subplots.AxesSubplot at 0x7fc419899950>"
            ]
          },
          "metadata": {
            "tags": []
          },
          "execution_count": 301
        },
        {
          "output_type": "display_data",
          "data": {
            "image/png": "[encoded data removed]",
            "text/plain": [
              "<Figure size 432x288 with 1 Axes>"
            ]
          },
          "metadata": {
            "tags": [],
            "needs_background": "light"
          }
        }
      ]
    },
    {
      "cell_type": "code",
      "metadata": {
        "colab": {
          "base_uri": "https://localhost:8080/",
          "height": 296
        },
        "id": "9ojGrpbjTINL",
        "outputId": "c2cea504-660e-4b32-a889-f1f2c9b7a0bb"
      },
      "source": [
        "fig = plt.figure(figsize = (6,4))\n",
        "sns.barplot(x = 'quality', y = 'residual sugar', data = train_data)"
      ],
      "execution_count": null,
      "outputs": [
        {
          "output_type": "execute_result",
          "data": {
            "text/plain": [
              "<matplotlib.axes._subplots.AxesSubplot at 0x7fc41b0cf910>"
            ]
          },
          "metadata": {
            "tags": []
          },
          "execution_count": 302
        },
        {
          "output_type": "display_data",
          "data": {
            "image/png": "[encoded data removed]",
            "text/plain": [
              "<Figure size 432x288 with 1 Axes>"
            ]
          },
          "metadata": {
            "tags": [],
            "needs_background": "light"
          }
        }
      ]
    },
    {
      "cell_type": "code",
      "metadata": {
        "colab": {
          "base_uri": "https://localhost:8080/",
          "height": 296
        },
        "id": "nliLGqoCTISO",
        "outputId": "1820b463-8ad6-4c82-80b7-3392b48c0314"
      },
      "source": [
        "fig = plt.figure(figsize = (6,4))\n",
        "sns.barplot(x = 'quality', y = 'chlorides', data = train_data)"
      ],
      "execution_count": null,
      "outputs": [
        {
          "output_type": "execute_result",
          "data": {
            "text/plain": [
              "<matplotlib.axes._subplots.AxesSubplot at 0x7fc41a8e5a10>"
            ]
          },
          "metadata": {
            "tags": []
          },
          "execution_count": 303
        },
        {
          "output_type": "display_data",
          "data": {
            "image/png": "[encoded data removed]",
            "text/plain": [
              "<Figure size 432x288 with 1 Axes>"
            ]
          },
          "metadata": {
            "tags": [],
            "needs_background": "light"
          }
        }
      ]
    },
    {
      "cell_type": "code",
      "metadata": {
        "colab": {
          "base_uri": "https://localhost:8080/",
          "height": 296
        },
        "id": "NcTDIIL2TIWT",
        "outputId": "bb46ef92-109d-4ae4-f62a-a682684a16b3"
      },
      "source": [
        "fig = plt.figure(figsize = (6,4))\n",
        "sns.barplot(x = 'quality', y = 'free sulfur dioxide', data = train_data)"
      ],
      "execution_count": null,
      "outputs": [
        {
          "output_type": "execute_result",
          "data": {
            "text/plain": [
              "<matplotlib.axes._subplots.AxesSubplot at 0x7fc41af5ef50>"
            ]
          },
          "metadata": {
            "tags": []
          },
          "execution_count": 304
        },
        {
          "output_type": "display_data",
          "data": {
            "image/png": "[encoded data removed]",
            "text/plain": [
              "<Figure size 432x288 with 1 Axes>"
            ]
          },
          "metadata": {
            "tags": [],
            "needs_background": "light"
          }
        }
      ]
    },
    {
      "cell_type": "code",
      "metadata": {
        "colab": {
          "base_uri": "https://localhost:8080/",
          "height": 299
        },
        "id": "tGI0pRyXThh5",
        "outputId": "a79ebce4-2589-4177-a7e3-ea352c4d83be"
      },
      "source": [
        "fig = plt.figure(figsize = (6,4))\n",
        "sns.barplot(x = 'quality', y = 'total sulfur dioxide', data = train_data)"
      ],
      "execution_count": null,
      "outputs": [
        {
          "output_type": "execute_result",
          "data": {
            "text/plain": [
              "<matplotlib.axes._subplots.AxesSubplot at 0x7fc41b250bd0>"
            ]
          },
          "metadata": {
            "tags": []
          },
          "execution_count": 305
        },
        {
          "output_type": "display_data",
          "data": {
            "image/png": "[encoded data removed]",
            "text/plain": [
              "<Figure size 432x288 with 1 Axes>"
            ]
          },
          "metadata": {
            "tags": [],
            "needs_background": "light"
          }
        }
      ]
    },
    {
      "cell_type": "code",
      "metadata": {
        "colab": {
          "base_uri": "https://localhost:8080/",
          "height": 296
        },
        "id": "6Emf5UeYTnIY",
        "outputId": "9abf20c3-7e95-490e-c3b5-a61829f69e8b"
      },
      "source": [
        "fig = plt.figure(figsize = (6,4))\n",
        "sns.barplot(x = 'quality', y = 'density', data = train_data)"
      ],
      "execution_count": null,
      "outputs": [
        {
          "output_type": "execute_result",
          "data": {
            "text/plain": [
              "<matplotlib.axes._subplots.AxesSubplot at 0x7fc41980c790>"
            ]
          },
          "metadata": {
            "tags": []
          },
          "execution_count": 306
        },
        {
          "output_type": "display_data",
          "data": {
            "image/png": "[encoded data removed]",
            "text/plain": [
              "<Figure size 432x288 with 1 Axes>"
            ]
          },
          "metadata": {
            "tags": [],
            "needs_background": "light"
          }
        }
      ]
    },
    {
      "cell_type": "code",
      "metadata": {
        "colab": {
          "base_uri": "https://localhost:8080/",
          "height": 296
        },
        "id": "Lq-7_-0VTnPi",
        "outputId": "0029eecb-ba36-4a11-d33a-a3542c2f4254"
      },
      "source": [
        "fig = plt.figure(figsize = (6,4))\n",
        "sns.barplot(x = 'quality', y = 'pH', data = train_data)"
      ],
      "execution_count": null,
      "outputs": [
        {
          "output_type": "execute_result",
          "data": {
            "text/plain": [
              "<matplotlib.axes._subplots.AxesSubplot at 0x7fc41b3183d0>"
            ]
          },
          "metadata": {
            "tags": []
          },
          "execution_count": 307
        },
        {
          "output_type": "display_data",
          "data": {
            "image/png": "[encoded data removed]",
            "text/plain": [
              "<Figure size 432x288 with 1 Axes>"
            ]
          },
          "metadata": {
            "tags": [],
            "needs_background": "light"
          }
        }
      ]
    },
    {
      "cell_type": "code",
      "metadata": {
        "colab": {
          "base_uri": "https://localhost:8080/",
          "height": 296
        },
        "id": "M0qRz2GwTn3G",
        "outputId": "2db3a7d5-5bf1-4331-ca26-f9f4274cc585"
      },
      "source": [
        "fig = plt.figure(figsize = (6,4))\n",
        "sns.barplot(x = 'quality', y = 'sulphates', data = train_data)"
      ],
      "execution_count": null,
      "outputs": [
        {
          "output_type": "execute_result",
          "data": {
            "text/plain": [
              "<matplotlib.axes._subplots.AxesSubplot at 0x7fc41a55d290>"
            ]
          },
          "metadata": {
            "tags": []
          },
          "execution_count": 308
        },
        {
          "output_type": "display_data",
          "data": {
            "image/png": "[encoded data removed]",
            "text/plain": [
              "<Figure size 432x288 with 1 Axes>"
            ]
          },
          "metadata": {
            "tags": [],
            "needs_background": "light"
          }
        }
      ]
    },
    {
      "cell_type": "code",
      "metadata": {
        "colab": {
          "base_uri": "https://localhost:8080/",
          "height": 296
        },
        "id": "UGIISOVrTyiM",
        "outputId": "3ee4ba1c-a2c1-425b-d0c0-64f77329ff2c"
      },
      "source": [
        "fig = plt.figure(figsize = (6,4))\n",
        "sns.barplot(x = 'quality', y = 'alcohol', data = train_data)"
      ],
      "execution_count": null,
      "outputs": [
        {
          "output_type": "execute_result",
          "data": {
            "text/plain": [
              "<matplotlib.axes._subplots.AxesSubplot at 0x7fc41b9c2050>"
            ]
          },
          "metadata": {
            "tags": []
          },
          "execution_count": 309
        },
        {
          "output_type": "display_data",
          "data": {
            "image/png": "[encoded data removed]",
            "text/plain": [
              "<Figure size 432x288 with 1 Axes>"
            ]
          },
          "metadata": {
            "tags": [],
            "needs_background": "light"
          }
        }
      ]
    },
    {
      "cell_type": "markdown",
      "metadata": {
        "id": "2N-_xcwH-wYX"
      },
      "source": [
        "# **Checking for NaN values in the training data**\n",
        "\n",
        "In this cell is a simple function to check whether NaN values exist in the data. Initially it had the capability of removing NaN values, but now it is included via Imputation in my pipeline that is implemented later in the program."
      ]
    },
    {
      "cell_type": "code",
      "metadata": {
        "colab": {
          "base_uri": "https://localhost:8080/"
        },
        "id": "VkVEzj82-x5h",
        "outputId": "602efdc5-6562-40a4-ae3b-cf630faacaf1"
      },
      "source": [
        "if(np.all((nans == 0))) : print(\"No NaN values\")\n",
        "else                    : print(\"There are some NaN values...\")"
      ],
      "execution_count": null,
      "outputs": [
        {
          "output_type": "stream",
          "text": [
            "No NaN values\n"
          ],
          "name": "stdout"
        }
      ]
    },
    {
      "cell_type": "markdown",
      "metadata": {
        "id": "4239HR4aD-4t"
      },
      "source": [
        "# **Outliers**\n",
        "\n",
        "To get a grasp of how many outliers are in each feature, here we use interquartile ranges to determine which values are outliers using 25% as our lower bound, and 75% as our upper bound.\n",
        "\n",
        "\n",
        "**Outliers will be dealt with via the QuantileTransformer() function later on within our pipeline.**"
      ]
    },
    {
      "cell_type": "code",
      "metadata": {
        "colab": {
          "base_uri": "https://localhost:8080/",
          "height": 432
        },
        "id": "3PbSzWJHjOuk",
        "outputId": "34846478-4b21-4356-ceae-f284bc568843"
      },
      "source": [
        "higherQ = .75\n",
        "lowerQ =.25\n",
        "\n",
        "quantiles = train_data.iloc[:, :].quantile([lowerQ, higherQ]).transpose()\n",
        "\n",
        "# Calculates thresholds for deeming values as outliers and stores them into a pandas dataframe.\n",
        "outliers = pd.DataFrame({'Lower Threshold' : quantiles[lowerQ] - (1.5 * (quantiles[higherQ] - quantiles[lowerQ])),\n",
        "                         'Upper Threshold' : quantiles[higherQ] + (1.5 * (quantiles[higherQ] - quantiles[lowerQ])),\n",
        "                         'Outliers' : 0\n",
        "                         })\n",
        "\n",
        "# Calculates how many outliers are in each column.\n",
        "for column in train_data.iloc[:, :].columns:\n",
        "    lower_val = outliers.at[column, 'Lower Threshold']\n",
        "    upper_val = outliers.at[column, 'Upper Threshold']\n",
        "\n",
        "    outliers.at[column, 'Outliers'] = sum(train_data[column] < lower_val) + sum(train_data[column] > upper_val)\n",
        "\n",
        "outliers"
      ],
      "execution_count": null,
      "outputs": [
        {
          "output_type": "execute_result",
          "data": {
            "text/html": [
              "<div>\n",
              "<style scoped>\n",
              "    .dataframe tbody tr th:only-of-type {\n",
              "        vertical-align: middle;\n",
              "    }\n",
              "\n",
              "    .dataframe tbody tr th {\n",
              "        vertical-align: top;\n",
              "    }\n",
              "\n",
              "    .dataframe thead th {\n",
              "        text-align: right;\n",
              "    }\n",
              "</style>\n",
              "<table border=\"1\" class=\"dataframe\">\n",
              "  <thead>\n",
              "    <tr style=\"text-align: right;\">\n",
              "      <th></th>\n",
              "      <th>Lower Threshold</th>\n",
              "      <th>Upper Threshold</th>\n",
              "      <th>Outliers</th>\n",
              "    </tr>\n",
              "  </thead>\n",
              "  <tbody>\n",
              "    <tr>\n",
              "      <th>id</th>\n",
              "      <td>-399.000000</td>\n",
              "      <td>1197.000000</td>\n",
              "      <td>0</td>\n",
              "    </tr>\n",
              "    <tr>\n",
              "      <th>fixed acidity</th>\n",
              "      <td>3.800000</td>\n",
              "      <td>12.600000</td>\n",
              "      <td>24</td>\n",
              "    </tr>\n",
              "    <tr>\n",
              "      <th>volatile acidity</th>\n",
              "      <td>0.027500</td>\n",
              "      <td>1.007500</td>\n",
              "      <td>9</td>\n",
              "    </tr>\n",
              "    <tr>\n",
              "      <th>citric acid</th>\n",
              "      <td>-0.435000</td>\n",
              "      <td>0.965000</td>\n",
              "      <td>1</td>\n",
              "    </tr>\n",
              "    <tr>\n",
              "      <th>residual sugar</th>\n",
              "      <td>0.850000</td>\n",
              "      <td>3.650000</td>\n",
              "      <td>79</td>\n",
              "    </tr>\n",
              "    <tr>\n",
              "      <th>chlorides</th>\n",
              "      <td>0.041000</td>\n",
              "      <td>0.121000</td>\n",
              "      <td>57</td>\n",
              "    </tr>\n",
              "    <tr>\n",
              "      <th>free sulfur dioxide</th>\n",
              "      <td>-14.000000</td>\n",
              "      <td>42.000000</td>\n",
              "      <td>12</td>\n",
              "    </tr>\n",
              "    <tr>\n",
              "      <th>total sulfur dioxide</th>\n",
              "      <td>-42.500000</td>\n",
              "      <td>129.500000</td>\n",
              "      <td>21</td>\n",
              "    </tr>\n",
              "    <tr>\n",
              "      <th>density</th>\n",
              "      <td>0.992312</td>\n",
              "      <td>1.001413</td>\n",
              "      <td>15</td>\n",
              "    </tr>\n",
              "    <tr>\n",
              "      <th>pH</th>\n",
              "      <td>2.925000</td>\n",
              "      <td>3.685000</td>\n",
              "      <td>19</td>\n",
              "    </tr>\n",
              "    <tr>\n",
              "      <th>sulphates</th>\n",
              "      <td>0.272500</td>\n",
              "      <td>1.012500</td>\n",
              "      <td>30</td>\n",
              "    </tr>\n",
              "    <tr>\n",
              "      <th>alcohol</th>\n",
              "      <td>7.250000</td>\n",
              "      <td>13.250000</td>\n",
              "      <td>6</td>\n",
              "    </tr>\n",
              "    <tr>\n",
              "      <th>quality</th>\n",
              "      <td>-1.500000</td>\n",
              "      <td>2.500000</td>\n",
              "      <td>0</td>\n",
              "    </tr>\n",
              "  </tbody>\n",
              "</table>\n",
              "</div>"
            ],
            "text/plain": [
              "                      Lower Threshold  Upper Threshold  Outliers\n",
              "id                        -399.000000      1197.000000         0\n",
              "fixed acidity                3.800000        12.600000        24\n",
              "volatile acidity             0.027500         1.007500         9\n",
              "citric acid                 -0.435000         0.965000         1\n",
              "residual sugar               0.850000         3.650000        79\n",
              "chlorides                    0.041000         0.121000        57\n",
              "free sulfur dioxide        -14.000000        42.000000        12\n",
              "total sulfur dioxide       -42.500000       129.500000        21\n",
              "density                      0.992312         1.001413        15\n",
              "pH                           2.925000         3.685000        19\n",
              "sulphates                    0.272500         1.012500        30\n",
              "alcohol                      7.250000        13.250000         6\n",
              "quality                     -1.500000         2.500000         0"
            ]
          },
          "metadata": {
            "tags": []
          },
          "execution_count": 321
        }
      ]
    },
    {
      "cell_type": "markdown",
      "metadata": {
        "id": "jeiRqYLNgxk6"
      },
      "source": [
        "\n",
        "Below this are some boxplots of the values in each respective feature, it's another way of visualizing our data's distrbution.\n"
      ]
    },
    {
      "cell_type": "code",
      "metadata": {
        "colab": {
          "base_uri": "https://localhost:8080/",
          "height": 1000
        },
        "id": "b5rLTlbRfMm5",
        "outputId": "1f8685f2-dbbd-483b-8d20-3dfac0bb2490"
      },
      "source": [
        "for column in train_data:\n",
        "    plt.figure()\n",
        "    train_data.boxplot([column])"
      ],
      "execution_count": null,
      "outputs": [
        {
          "output_type": "display_data",
          "data": {
            "image/png": "[encoded data removed]",
            "text/plain": [
              "<Figure size 432x288 with 1 Axes>"
            ]
          },
          "metadata": {
            "tags": [],
            "needs_background": "light"
          }
        },
        {
          "output_type": "display_data",
          "data": {
            "image/png": "[encoded data removed]",
            "text/plain": [
              "<Figure size 432x288 with 1 Axes>"
            ]
          },
          "metadata": {
            "tags": [],
            "needs_background": "light"
          }
        },
        {
          "output_type": "display_data",
          "data": {
            "image/png": "[encoded data removed]",
            "text/plain": [
              "<Figure size 432x288 with 1 Axes>"
            ]
          },
          "metadata": {
            "tags": [],
            "needs_background": "light"
          }
        },
        {
          "output_type": "display_data",
          "data": {
            "image/png": "[encoded data removed]",
            "text/plain": [
              "<Figure size 432x288 with 1 Axes>"
            ]
          },
          "metadata": {
            "tags": [],
            "needs_background": "light"
          }
        },
        {
          "output_type": "display_data",
          "data": {
            "image/png": "[encoded data removed]",
            "text/plain": [
              "<Figure size 432x288 with 1 Axes>"
            ]
          },
          "metadata": {
            "tags": [],
            "needs_background": "light"
          }
        },
        {
          "output_type": "display_data",
          "data": {
            "image/png": "[encoded data removed]",
            "text/plain": [
              "<Figure size 432x288 with 1 Axes>"
            ]
          },
          "metadata": {
            "tags": [],
            "needs_background": "light"
          }
        },
        {
          "output_type": "display_data",
          "data": {
            "image/png": "[encoded data removed]",
            "text/plain": [
              "<Figure size 432x288 with 1 Axes>"
            ]
          },
          "metadata": {
            "tags": [],
            "needs_background": "light"
          }
        },
        {
          "output_type": "display_data",
          "data": {
            "image/png": "[encoded data removed]",
            "text/plain": [
              "<Figure size 432x288 with 1 Axes>"
            ]
          },
          "metadata": {
            "tags": [],
            "needs_background": "light"
          }
        },
        {
          "output_type": "display_data",
          "data": {
            "image/png": "[encoded data removed]",
            "text/plain": [
              "<Figure size 432x288 with 1 Axes>"
            ]
          },
          "metadata": {
            "tags": [],
            "needs_background": "light"
          }
        },
        {
          "output_type": "display_data",
          "data": {
            "image/png": "[encoded data removed]",
            "text/plain": [
              "<Figure size 432x288 with 1 Axes>"
            ]
          },
          "metadata": {
            "tags": [],
            "needs_background": "light"
          }
        },
        {
          "output_type": "display_data",
          "data": {
            "image/png": "[encoded data removed]",
            "text/plain": [
              "<Figure size 432x288 with 1 Axes>"
            ]
          },
          "metadata": {
            "tags": [],
            "needs_background": "light"
          }
        },
        {
          "output_type": "display_data",
          "data": {
            "image/png": "[encoded data removed]",
            "text/plain": [
              "<Figure size 432x288 with 1 Axes>"
            ]
          },
          "metadata": {
            "tags": [],
            "needs_background": "light"
          }
        },
        {
          "output_type": "display_data",
          "data": {
            "image/png": "[encoded data removed]",
            "text/plain": [
              "<Figure size 432x288 with 1 Axes>"
            ]
          },
          "metadata": {
            "tags": [],
            "needs_background": "light"
          }
        }
      ]
    },
    {
      "cell_type": "markdown",
      "metadata": {
        "id": "8LcONCjJDwvN"
      },
      "source": [
        "# **Splitting the dataset**\n",
        "\n",
        "Here we drop any duplicates in the data, create our target label y, and our training data X, and split them using train_test_split.\n",
        "\n",
        "I tested different values for test_size and .25 seems to be the most consistently well-performing value for the dataset."
      ]
    },
    {
      "cell_type": "code",
      "metadata": {
        "id": "DTwxFXABpr9X"
      },
      "source": [
        "from sklearn.model_selection import train_test_split\n",
        "\n",
        "train_data.drop_duplicates\n",
        "y = train_data['quality']\n",
        "X = train_data.drop(['id', 'quality'], axis=1)\n",
        "\n",
        "X_train, X_test, y_train, y_test = train_test_split(X, y, test_size=0.25, random_state=40, stratify=y)"
      ],
      "execution_count": null,
      "outputs": []
    },
    {
      "cell_type": "markdown",
      "metadata": {
        "id": "qwO1vHFohyU0"
      },
      "source": [
        "# **Making the pipeline**\n",
        "\n",
        "This section creates a KNeighborsClassifier object to put in a pipeline.\n",
        "\n",
        "Our pipeline is created in this section implementing:\n",
        "\n",
        "\n",
        "*   Standardization in the form of a scaler (StandardScaler). I picked standardization over normalization because it came out with the higher f1 score seemingly due to the level of variance in the dataset.\n",
        "\n",
        "*   Outlier detection/removal in the form of a QuantileTransformer.\n",
        "\n",
        "\n",
        "*   An Imputer to handle any potential missing values.\n",
        "*   A feature selector, SelectKBest, to select the features most applicable for our prediction.\n",
        "\n",
        "*   Our previously created KNeighborsClassifier object. \n",
        "\n",
        "**NOTE:** I have inserted the best parameters I found into my pipeline declaration to save time when grading. As such I'll comment out the related lines of code in the Hyperparameter section as well.\n"
      ]
    },
    {
      "cell_type": "code",
      "metadata": {
        "id": "4u2ImVYmhxlO"
      },
      "source": [
        "from sklearn.preprocessing import StandardScaler, QuantileTransformer\n",
        "from sklearn.neighbors import KNeighborsClassifier\n",
        "from sklearn.feature_selection import SelectKBest\n",
        "from sklearn.impute import SimpleImputer\n",
        "\n",
        "pipe = Pipeline(steps=[('standardizer', StandardScaler()),\n",
        "                       ('quant', QuantileTransformer(n_quantiles=25)),\n",
        "                       ('imp', SimpleImputer(strategy='mean')),\n",
        "                       ('feature_select', SelectKBest(k=8)),\n",
        "                       ('knn', KNeighborsClassifier(n_neighbors=15))])"
      ],
      "execution_count": null,
      "outputs": []
    },
    {
      "cell_type": "markdown",
      "metadata": {
        "id": "WLdwa0m6f6x4"
      },
      "source": [
        "# **Hyperparameter Tuning**\n",
        "\n",
        "In this section I implemented hyperparameter tuning by using a GridSearch object to find the best parameters for my pipeline.\n",
        "\n",
        "GridSearch tests the f1 score of our pipeline for the different combinations of parameters that are possible from the 'parameters' declarations below. \n",
        "\n",
        "**For example**: the 'feature_select__k' entry in parameters allows grid search to test values from k=1 to k=(the total number of features).\n",
        "\n",
        "**NOTE:** This section takes a few minutes if you let it search. One way to speed up grading is to take the best values and put them in the pipeline functions above, which I have already done for the convenience of the grader. \n",
        "\n",
        "For reference these are the best known parameters:\n",
        "\n",
        "\n",
        "*   quant: n_quantiles = 25\n",
        "*   imp: strategy='mean'\n",
        "*   feature_select: k = 8\n",
        "*   knn : n_neighbors = 15\n",
        "\n",
        "\n",
        " \n",
        "\n",
        "\n",
        "\n",
        "\n"
      ]
    },
    {
      "cell_type": "code",
      "metadata": {
        "colab": {
          "base_uri": "https://localhost:8080/"
        },
        "id": "2c7z7ct9iHrt",
        "outputId": "3985bd5f-85fb-46bf-d01a-b9c0bb9e7f51"
      },
      "source": [
        "from sklearn.model_selection import GridSearchCV, cross_val_score\n",
        "\n",
        "# Creating parameter lists for our grid search.\n",
        "parameters = {}\n",
        "#parameters['quant__n_quantiles'] = range(5, 50, 5)\n",
        "#parameters['imp__strategy'] = ['mean', 'median', 'most_frequent']\n",
        "#parameters['knn__n_neighbors'] = range(1, 50, 2)\n",
        "#parameters['feature_select__k']  = range(1, len(X_train.columns))\n",
        "\n",
        "CV = GridSearchCV(pipe, parameters, scoring='f1', n_jobs=1)\n",
        "CV.fit(X_train, y_train)\n",
        "\n",
        "print('Best f1 Score: ', CV.best_score_)\n",
        "#print('Best Parameters: ', CV.best_params_)    "
      ],
      "execution_count": null,
      "outputs": [
        {
          "output_type": "stream",
          "text": [
            "Best f1 Score:  0.8020646146830825\n"
          ],
          "name": "stdout"
        }
      ]
    },
    {
      "cell_type": "markdown",
      "metadata": {
        "id": "flf1meq0s1GK"
      },
      "source": [
        "The portion below is commented out because it takes way too long and has no application towards grading. I used it to create a distribution of F1 scores and took the median of that as an indicator of whether the model was good enough to submit predictions for."
      ]
    },
    {
      "cell_type": "code",
      "metadata": {
        "id": "dQWbjDBvs10T"
      },
      "source": [
        "#from statistics import median\n",
        "\n",
        "# Uses Cross Validation To Evaluate Model\n",
        "#CV_Result = cross_val_score(CV, X_train, y_train, cv=20, n_jobs=-1, scoring='f1', verbose=1)\n",
        "#print(); print(median(CV_Result))"
      ],
      "execution_count": null,
      "outputs": []
    },
    {
      "cell_type": "markdown",
      "metadata": {
        "id": "W48CZFa7Iroy"
      },
      "source": [
        "# **Metrics**\n",
        "\n",
        "This section below calculates and reports all the metrics relevant to our model.\n",
        "\n",
        "It generates a classification report, along with an accuracy score, f1 score, and a roc score."
      ]
    },
    {
      "cell_type": "code",
      "metadata": {
        "colab": {
          "base_uri": "https://localhost:8080/"
        },
        "id": "WNjEFt_sIqDc",
        "outputId": "171ede45-7f20-4b11-fd88-63b47c58e7d8"
      },
      "source": [
        "from sklearn.metrics import roc_auc_score\n",
        "from sklearn.metrics import accuracy_score\n",
        "from sklearn.metrics import f1_score\n",
        "from sklearn.metrics import classification_report\n",
        "\n",
        "y_pred = CV.predict(X_train)\n",
        "print(classification_report(y_train, y_pred))\n",
        "\n",
        "# Computes all the accuracy / f1 / roc metrics.\n",
        "accuracy = accuracy_score(y_train, y_pred.round())\n",
        "f1 = f1_score(y_train, y_pred.round())\n",
        "roc = roc_auc_score(y_train, y_pred)\n",
        "\n",
        "# Prints out the metrics we computed above.\n",
        "print(\"KNN Model Accuracy: \" + str(accuracy))\n",
        "print(\"KNN Model F1: \" + str(f1))\n",
        "print(\"KNN Model ROC: \" + str(roc))"
      ],
      "execution_count": null,
      "outputs": [
        {
          "output_type": "stream",
          "text": [
            "              precision    recall  f1-score   support\n",
            "\n",
            "           0       0.77      0.77      0.77       279\n",
            "           1       0.80      0.80      0.80       320\n",
            "\n",
            "    accuracy                           0.79       599\n",
            "   macro avg       0.79      0.79      0.79       599\n",
            "weighted avg       0.79      0.79      0.79       599\n",
            "\n",
            "KNN Model Accuracy: 0.7863105175292153\n",
            "KNN Model F1: 0.8006230529595015\n",
            "KNN Model ROC: 0.7850750448028675\n"
          ],
          "name": "stdout"
        }
      ]
    },
    {
      "cell_type": "markdown",
      "metadata": {
        "id": "C6eHMUyXJQAJ"
      },
      "source": [
        "# **Output**\n",
        "\n",
        "Generates and saves our test data's predictions to a CSV file named 'my_submission.csv'"
      ]
    },
    {
      "cell_type": "code",
      "metadata": {
        "colab": {
          "base_uri": "https://localhost:8080/",
          "height": 418
        },
        "id": "i2hZznuGJTFT",
        "outputId": "a8f04a5b-e2c6-4d6c-ca02-3da40caf61a3"
      },
      "source": [
        "X_test=test_data.drop('id', axis=1)\n",
        "test_pred = CV.predict(X_test)\n",
        "\n",
        "output = pd.DataFrame({'id': test_data.id, 'quality': test_pred.astype(int)})\n",
        "output.to_csv('my_submission.csv', index=False)\n",
        "print(\"Your submission was successfully saved!\")\n",
        "output"
      ],
      "execution_count": null,
      "outputs": [
        {
          "output_type": "stream",
          "text": [
            "Your submission was successfully saved!\n"
          ],
          "name": "stdout"
        },
        {
          "output_type": "execute_result",
          "data": {
            "text/html": [
              "<div>\n",
              "<style scoped>\n",
              "    .dataframe tbody tr th:only-of-type {\n",
              "        vertical-align: middle;\n",
              "    }\n",
              "\n",
              "    .dataframe tbody tr th {\n",
              "        vertical-align: top;\n",
              "    }\n",
              "\n",
              "    .dataframe thead th {\n",
              "        text-align: right;\n",
              "    }\n",
              "</style>\n",
              "<table border=\"1\" class=\"dataframe\">\n",
              "  <thead>\n",
              "    <tr style=\"text-align: right;\">\n",
              "      <th></th>\n",
              "      <th>id</th>\n",
              "      <th>quality</th>\n",
              "    </tr>\n",
              "  </thead>\n",
              "  <tbody>\n",
              "    <tr>\n",
              "      <th>0</th>\n",
              "      <td>0</td>\n",
              "      <td>1</td>\n",
              "    </tr>\n",
              "    <tr>\n",
              "      <th>1</th>\n",
              "      <td>1</td>\n",
              "      <td>0</td>\n",
              "    </tr>\n",
              "    <tr>\n",
              "      <th>2</th>\n",
              "      <td>2</td>\n",
              "      <td>0</td>\n",
              "    </tr>\n",
              "    <tr>\n",
              "      <th>3</th>\n",
              "      <td>3</td>\n",
              "      <td>1</td>\n",
              "    </tr>\n",
              "    <tr>\n",
              "      <th>4</th>\n",
              "      <td>4</td>\n",
              "      <td>1</td>\n",
              "    </tr>\n",
              "    <tr>\n",
              "      <th>...</th>\n",
              "      <td>...</td>\n",
              "      <td>...</td>\n",
              "    </tr>\n",
              "    <tr>\n",
              "      <th>795</th>\n",
              "      <td>795</td>\n",
              "      <td>0</td>\n",
              "    </tr>\n",
              "    <tr>\n",
              "      <th>796</th>\n",
              "      <td>796</td>\n",
              "      <td>1</td>\n",
              "    </tr>\n",
              "    <tr>\n",
              "      <th>797</th>\n",
              "      <td>797</td>\n",
              "      <td>1</td>\n",
              "    </tr>\n",
              "    <tr>\n",
              "      <th>798</th>\n",
              "      <td>798</td>\n",
              "      <td>1</td>\n",
              "    </tr>\n",
              "    <tr>\n",
              "      <th>799</th>\n",
              "      <td>799</td>\n",
              "      <td>0</td>\n",
              "    </tr>\n",
              "  </tbody>\n",
              "</table>\n",
              "<p>800 rows × 2 columns</p>\n",
              "</div>"
            ],
            "text/plain": [
              "      id  quality\n",
              "0      0        1\n",
              "1      1        0\n",
              "2      2        0\n",
              "3      3        1\n",
              "4      4        1\n",
              "..   ...      ...\n",
              "795  795        0\n",
              "796  796        1\n",
              "797  797        1\n",
              "798  798        1\n",
              "799  799        0\n",
              "\n",
              "[800 rows x 2 columns]"
            ]
          },
          "metadata": {
            "tags": []
          },
          "execution_count": 327
        }
      ]
    }
  ]
}
